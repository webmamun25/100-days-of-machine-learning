{
  "metadata": {
    "kernelspec": {
      "language": "python",
      "display_name": "Python 3",
      "name": "python3"
    },
    "language_info": {
      "name": "python",
      "version": "3.10.10",
      "mimetype": "text/x-python",
      "codemirror_mode": {
        "name": "ipython",
        "version": 3
      },
      "pygments_lexer": "ipython3",
      "nbconvert_exporter": "python",
      "file_extension": ".py"
    },
    "colab": {
      "provenance": [],
      "include_colab_link": true
    }
  },
  "nbformat_minor": 0,
  "nbformat": 4,
  "cells": [
    {
      "cell_type": "markdown",
      "metadata": {
        "id": "view-in-github",
        "colab_type": "text"
      },
      "source": [
        "<a href=\"https://colab.research.google.com/github/webmamun25/100-days-of-machine-learning/blob/main/airplane_delayed.ipynb\" target=\"_parent\"><img src=\"https://colab.research.google.com/assets/colab-badge.svg\" alt=\"Open In Colab\"/></a>"
      ]
    },
    {
      "cell_type": "code",
      "source": [
        "# This Python 3 environment comes with many helpful analytics libraries installed\n",
        "# It is defined by the kaggle/python Docker image: https://github.com/kaggle/docker-python\n",
        "# For example, here's several helpful packages to load\n",
        "\n",
        "import numpy as np # linear algebra\n",
        "import pandas as pd # data processing, CSV file I/O (e.g. pd.read_csv)\n",
        "\n",
        "# Input data files are available in the read-only \"../input/\" directory\n",
        "# For example, running this (by clicking run or pressing Shift+Enter) will list all files under the input directory\n",
        "\n",
        "import os\n",
        "for dirname, _, filenames in os.walk('/kaggle/input'):\n",
        "    for filename in filenames:\n",
        "        print(os.path.join(dirname, filename))\n",
        "\n",
        "# You can write up to 20GB to the current directory (/kaggle/working/) that gets preserved as output when you create a version using \"Save & Run All\" \n",
        "# You can also write temporary files to /kaggle/temp/, but they won't be saved outside of the current session"
      ],
      "metadata": {
        "_uuid": "8f2839f25d086af736a60e9eeb907d3b93b6e0e5",
        "_cell_guid": "b1076dfc-b9ad-4769-8c92-a6c4dae69d19",
        "execution": {
          "iopub.status.busy": "2023-06-09T04:15:57.727609Z",
          "iopub.execute_input": "2023-06-09T04:15:57.727987Z",
          "iopub.status.idle": "2023-06-09T04:15:57.766918Z",
          "shell.execute_reply.started": "2023-06-09T04:15:57.727955Z",
          "shell.execute_reply": "2023-06-09T04:15:57.766011Z"
        },
        "trusted": true,
        "id": "CcVtR-04kRqM",
        "outputId": "092c8ba1-508f-4759-9e51-fe19e557bfd9"
      },
      "execution_count": null,
      "outputs": [
        {
          "name": "stdout",
          "text": "/kaggle/input/airlines-delay/airlines_delay.csv\n",
          "output_type": "stream"
        }
      ]
    },
    {
      "cell_type": "code",
      "source": [
        "df=pd.read_csv('/kaggle/input/airlines-delay/airlines_delay.csv')"
      ],
      "metadata": {
        "execution": {
          "iopub.status.busy": "2023-06-09T04:16:15.386141Z",
          "iopub.execute_input": "2023-06-09T04:16:15.386545Z",
          "iopub.status.idle": "2023-06-09T04:16:16.535577Z",
          "shell.execute_reply.started": "2023-06-09T04:16:15.386513Z",
          "shell.execute_reply": "2023-06-09T04:16:16.534099Z"
        },
        "trusted": true,
        "id": "OGq-U5ttkRqQ"
      },
      "execution_count": null,
      "outputs": []
    },
    {
      "cell_type": "code",
      "source": [
        "df"
      ],
      "metadata": {
        "execution": {
          "iopub.status.busy": "2023-06-09T04:16:19.632584Z",
          "iopub.execute_input": "2023-06-09T04:16:19.632958Z",
          "iopub.status.idle": "2023-06-09T04:16:19.676604Z",
          "shell.execute_reply.started": "2023-06-09T04:16:19.632929Z",
          "shell.execute_reply": "2023-06-09T04:16:19.675321Z"
        },
        "trusted": true,
        "id": "wo7pBpbPkRqR",
        "outputId": "542b9615-c13f-4280-abe0-63126210d862"
      },
      "execution_count": null,
      "outputs": [
        {
          "execution_count": 3,
          "output_type": "execute_result",
          "data": {
            "text/plain": "        Flight    Time  Length Airline AirportFrom AirportTo  DayOfWeek  Class\n0       2313.0  1296.0   141.0      DL         ATL       HOU          1      0\n1       6948.0   360.0   146.0      OO         COS       ORD          4      0\n2       1247.0  1170.0   143.0      B6         BOS       CLT          3      0\n3         31.0  1410.0   344.0      US         OGG       PHX          6      0\n4        563.0   692.0    98.0      FL         BMI       ATL          4      0\n...        ...     ...     ...     ...         ...       ...        ...    ...\n539377  6973.0   530.0    72.0      OO         GEG       SEA          5      1\n539378  1264.0   560.0   115.0      WN         LAS       DEN          4      1\n539379  5209.0   827.0    74.0      EV         CAE       ATL          2      1\n539380   607.0   715.0    65.0      WN         BWI       BUF          4      1\n539381  6377.0   770.0    55.0      OO         CPR       DEN          2      1\n\n[539382 rows x 8 columns]",
            "text/html": "<div>\n<style scoped>\n    .dataframe tbody tr th:only-of-type {\n        vertical-align: middle;\n    }\n\n    .dataframe tbody tr th {\n        vertical-align: top;\n    }\n\n    .dataframe thead th {\n        text-align: right;\n    }\n</style>\n<table border=\"1\" class=\"dataframe\">\n  <thead>\n    <tr style=\"text-align: right;\">\n      <th></th>\n      <th>Flight</th>\n      <th>Time</th>\n      <th>Length</th>\n      <th>Airline</th>\n      <th>AirportFrom</th>\n      <th>AirportTo</th>\n      <th>DayOfWeek</th>\n      <th>Class</th>\n    </tr>\n  </thead>\n  <tbody>\n    <tr>\n      <th>0</th>\n      <td>2313.0</td>\n      <td>1296.0</td>\n      <td>141.0</td>\n      <td>DL</td>\n      <td>ATL</td>\n      <td>HOU</td>\n      <td>1</td>\n      <td>0</td>\n    </tr>\n    <tr>\n      <th>1</th>\n      <td>6948.0</td>\n      <td>360.0</td>\n      <td>146.0</td>\n      <td>OO</td>\n      <td>COS</td>\n      <td>ORD</td>\n      <td>4</td>\n      <td>0</td>\n    </tr>\n    <tr>\n      <th>2</th>\n      <td>1247.0</td>\n      <td>1170.0</td>\n      <td>143.0</td>\n      <td>B6</td>\n      <td>BOS</td>\n      <td>CLT</td>\n      <td>3</td>\n      <td>0</td>\n    </tr>\n    <tr>\n      <th>3</th>\n      <td>31.0</td>\n      <td>1410.0</td>\n      <td>344.0</td>\n      <td>US</td>\n      <td>OGG</td>\n      <td>PHX</td>\n      <td>6</td>\n      <td>0</td>\n    </tr>\n    <tr>\n      <th>4</th>\n      <td>563.0</td>\n      <td>692.0</td>\n      <td>98.0</td>\n      <td>FL</td>\n      <td>BMI</td>\n      <td>ATL</td>\n      <td>4</td>\n      <td>0</td>\n    </tr>\n    <tr>\n      <th>...</th>\n      <td>...</td>\n      <td>...</td>\n      <td>...</td>\n      <td>...</td>\n      <td>...</td>\n      <td>...</td>\n      <td>...</td>\n      <td>...</td>\n    </tr>\n    <tr>\n      <th>539377</th>\n      <td>6973.0</td>\n      <td>530.0</td>\n      <td>72.0</td>\n      <td>OO</td>\n      <td>GEG</td>\n      <td>SEA</td>\n      <td>5</td>\n      <td>1</td>\n    </tr>\n    <tr>\n      <th>539378</th>\n      <td>1264.0</td>\n      <td>560.0</td>\n      <td>115.0</td>\n      <td>WN</td>\n      <td>LAS</td>\n      <td>DEN</td>\n      <td>4</td>\n      <td>1</td>\n    </tr>\n    <tr>\n      <th>539379</th>\n      <td>5209.0</td>\n      <td>827.0</td>\n      <td>74.0</td>\n      <td>EV</td>\n      <td>CAE</td>\n      <td>ATL</td>\n      <td>2</td>\n      <td>1</td>\n    </tr>\n    <tr>\n      <th>539380</th>\n      <td>607.0</td>\n      <td>715.0</td>\n      <td>65.0</td>\n      <td>WN</td>\n      <td>BWI</td>\n      <td>BUF</td>\n      <td>4</td>\n      <td>1</td>\n    </tr>\n    <tr>\n      <th>539381</th>\n      <td>6377.0</td>\n      <td>770.0</td>\n      <td>55.0</td>\n      <td>OO</td>\n      <td>CPR</td>\n      <td>DEN</td>\n      <td>2</td>\n      <td>1</td>\n    </tr>\n  </tbody>\n</table>\n<p>539382 rows × 8 columns</p>\n</div>"
          },
          "metadata": {}
        }
      ]
    },
    {
      "cell_type": "markdown",
      "source": [
        "\n",
        "**Remove unusual column(flight id)**"
      ],
      "metadata": {
        "id": "X7ikZgSOkRqR"
      }
    },
    {
      "cell_type": "code",
      "source": [
        "df.drop(columns=['Flight','Length'],inplace=True)"
      ],
      "metadata": {
        "execution": {
          "iopub.status.busy": "2023-06-09T04:19:01.626566Z",
          "iopub.execute_input": "2023-06-09T04:19:01.626942Z",
          "iopub.status.idle": "2023-06-09T04:19:01.677635Z",
          "shell.execute_reply.started": "2023-06-09T04:19:01.626914Z",
          "shell.execute_reply": "2023-06-09T04:19:01.676560Z"
        },
        "trusted": true,
        "id": "khOslEPSkRqS"
      },
      "execution_count": null,
      "outputs": []
    },
    {
      "cell_type": "code",
      "source": [
        "df"
      ],
      "metadata": {
        "execution": {
          "iopub.status.busy": "2023-06-09T04:20:40.356067Z",
          "iopub.execute_input": "2023-06-09T04:20:40.356463Z",
          "iopub.status.idle": "2023-06-09T04:20:40.373426Z",
          "shell.execute_reply.started": "2023-06-09T04:20:40.356435Z",
          "shell.execute_reply": "2023-06-09T04:20:40.372339Z"
        },
        "trusted": true,
        "id": "2UtglJ91kRqT",
        "outputId": "dd1063c1-af98-4ccb-ae11-a6012096b3dd"
      },
      "execution_count": null,
      "outputs": [
        {
          "execution_count": 8,
          "output_type": "execute_result",
          "data": {
            "text/plain": "          Time Airline AirportFrom AirportTo  DayOfWeek  Class\n0       1296.0      DL         ATL       HOU          1      0\n1        360.0      OO         COS       ORD          4      0\n2       1170.0      B6         BOS       CLT          3      0\n3       1410.0      US         OGG       PHX          6      0\n4        692.0      FL         BMI       ATL          4      0\n...        ...     ...         ...       ...        ...    ...\n539377   530.0      OO         GEG       SEA          5      1\n539378   560.0      WN         LAS       DEN          4      1\n539379   827.0      EV         CAE       ATL          2      1\n539380   715.0      WN         BWI       BUF          4      1\n539381   770.0      OO         CPR       DEN          2      1\n\n[539382 rows x 6 columns]",
            "text/html": "<div>\n<style scoped>\n    .dataframe tbody tr th:only-of-type {\n        vertical-align: middle;\n    }\n\n    .dataframe tbody tr th {\n        vertical-align: top;\n    }\n\n    .dataframe thead th {\n        text-align: right;\n    }\n</style>\n<table border=\"1\" class=\"dataframe\">\n  <thead>\n    <tr style=\"text-align: right;\">\n      <th></th>\n      <th>Time</th>\n      <th>Airline</th>\n      <th>AirportFrom</th>\n      <th>AirportTo</th>\n      <th>DayOfWeek</th>\n      <th>Class</th>\n    </tr>\n  </thead>\n  <tbody>\n    <tr>\n      <th>0</th>\n      <td>1296.0</td>\n      <td>DL</td>\n      <td>ATL</td>\n      <td>HOU</td>\n      <td>1</td>\n      <td>0</td>\n    </tr>\n    <tr>\n      <th>1</th>\n      <td>360.0</td>\n      <td>OO</td>\n      <td>COS</td>\n      <td>ORD</td>\n      <td>4</td>\n      <td>0</td>\n    </tr>\n    <tr>\n      <th>2</th>\n      <td>1170.0</td>\n      <td>B6</td>\n      <td>BOS</td>\n      <td>CLT</td>\n      <td>3</td>\n      <td>0</td>\n    </tr>\n    <tr>\n      <th>3</th>\n      <td>1410.0</td>\n      <td>US</td>\n      <td>OGG</td>\n      <td>PHX</td>\n      <td>6</td>\n      <td>0</td>\n    </tr>\n    <tr>\n      <th>4</th>\n      <td>692.0</td>\n      <td>FL</td>\n      <td>BMI</td>\n      <td>ATL</td>\n      <td>4</td>\n      <td>0</td>\n    </tr>\n    <tr>\n      <th>...</th>\n      <td>...</td>\n      <td>...</td>\n      <td>...</td>\n      <td>...</td>\n      <td>...</td>\n      <td>...</td>\n    </tr>\n    <tr>\n      <th>539377</th>\n      <td>530.0</td>\n      <td>OO</td>\n      <td>GEG</td>\n      <td>SEA</td>\n      <td>5</td>\n      <td>1</td>\n    </tr>\n    <tr>\n      <th>539378</th>\n      <td>560.0</td>\n      <td>WN</td>\n      <td>LAS</td>\n      <td>DEN</td>\n      <td>4</td>\n      <td>1</td>\n    </tr>\n    <tr>\n      <th>539379</th>\n      <td>827.0</td>\n      <td>EV</td>\n      <td>CAE</td>\n      <td>ATL</td>\n      <td>2</td>\n      <td>1</td>\n    </tr>\n    <tr>\n      <th>539380</th>\n      <td>715.0</td>\n      <td>WN</td>\n      <td>BWI</td>\n      <td>BUF</td>\n      <td>4</td>\n      <td>1</td>\n    </tr>\n    <tr>\n      <th>539381</th>\n      <td>770.0</td>\n      <td>OO</td>\n      <td>CPR</td>\n      <td>DEN</td>\n      <td>2</td>\n      <td>1</td>\n    </tr>\n  </tbody>\n</table>\n<p>539382 rows × 6 columns</p>\n</div>"
          },
          "metadata": {}
        }
      ]
    },
    {
      "cell_type": "code",
      "source": [
        "df['Airline'].value_counts().plot(kind='bar')"
      ],
      "metadata": {
        "execution": {
          "iopub.status.busy": "2023-06-09T04:20:24.444288Z",
          "iopub.execute_input": "2023-06-09T04:20:24.444663Z",
          "iopub.status.idle": "2023-06-09T04:20:24.924531Z",
          "shell.execute_reply.started": "2023-06-09T04:20:24.444634Z",
          "shell.execute_reply": "2023-06-09T04:20:24.922798Z"
        },
        "trusted": true,
        "id": "kwZqQ68NkRqT",
        "outputId": "8915346c-0feb-483f-dbf6-ae82bdd9d69c"
      },
      "execution_count": null,
      "outputs": [
        {
          "execution_count": 7,
          "output_type": "execute_result",
          "data": {
            "text/plain": "<Axes: >"
          },
          "metadata": {}
        },
        {
          "output_type": "display_data",
          "data": {
            "text/plain": "<Figure size 640x480 with 1 Axes>",
            "image/png": "[encoded data removed]"
          },
          "metadata": {}
        }
      ]
    },
    {
      "cell_type": "code",
      "source": [
        "df['Class'].value_counts().plot(kind='pie',autopct=\"%0.1f%%\")"
      ],
      "metadata": {
        "execution": {
          "iopub.status.busy": "2023-06-09T04:25:17.776415Z",
          "iopub.execute_input": "2023-06-09T04:25:17.777156Z",
          "iopub.status.idle": "2023-06-09T04:25:17.930429Z",
          "shell.execute_reply.started": "2023-06-09T04:25:17.777081Z",
          "shell.execute_reply": "2023-06-09T04:25:17.928889Z"
        },
        "trusted": true,
        "id": "v-cHZVkikRqT",
        "outputId": "c02aa87f-750d-4a89-8bca-478017a779e7"
      },
      "execution_count": null,
      "outputs": [
        {
          "execution_count": 15,
          "output_type": "execute_result",
          "data": {
            "text/plain": "<Axes: ylabel='Class'>"
          },
          "metadata": {}
        },
        {
          "output_type": "display_data",
          "data": {
            "text/plain": "<Figure size 640x480 with 1 Axes>",
            "image/png": "[encoded data removed]"
          },
          "metadata": {}
        }
      ]
    },
    {
      "cell_type": "code",
      "source": [
        "import seaborn as sns\n",
        "sns.barplot(data=df,x='Airline',y='DayOfWeek')"
      ],
      "metadata": {
        "execution": {
          "iopub.status.busy": "2023-06-09T04:28:51.609815Z",
          "iopub.execute_input": "2023-06-09T04:28:51.610365Z",
          "iopub.status.idle": "2023-06-09T04:28:59.953590Z",
          "shell.execute_reply.started": "2023-06-09T04:28:51.610328Z",
          "shell.execute_reply": "2023-06-09T04:28:59.952461Z"
        },
        "trusted": true,
        "id": "mtMR2JmrkRqU",
        "outputId": "376f54b5-1633-413a-fb90-71f538e49b5b"
      },
      "execution_count": null,
      "outputs": [
        {
          "execution_count": 16,
          "output_type": "execute_result",
          "data": {
            "text/plain": "<Axes: xlabel='Airline', ylabel='DayOfWeek'>"
          },
          "metadata": {}
        },
        {
          "output_type": "display_data",
          "data": {
            "text/plain": "<Figure size 640x480 with 1 Axes>",
            "image/png": "[encoded data removed]"
          },
          "metadata": {}
        }
      ]
    },
    {
      "cell_type": "code",
      "source": [
        "sns.displot(df['Time'],kde=True)"
      ],
      "metadata": {
        "execution": {
          "iopub.status.busy": "2023-06-09T04:30:55.954622Z",
          "iopub.execute_input": "2023-06-09T04:30:55.955031Z",
          "iopub.status.idle": "2023-06-09T04:30:59.152574Z",
          "shell.execute_reply.started": "2023-06-09T04:30:55.954999Z",
          "shell.execute_reply": "2023-06-09T04:30:59.151176Z"
        },
        "trusted": true,
        "id": "KSms4GZQkRqU",
        "outputId": "d2fca540-348d-441b-f884-130b006d96e5"
      },
      "execution_count": null,
      "outputs": [
        {
          "execution_count": 19,
          "output_type": "execute_result",
          "data": {
            "text/plain": "<seaborn.axisgrid.FacetGrid at 0x794b83139390>"
          },
          "metadata": {}
        },
        {
          "output_type": "display_data",
          "data": {
            "text/plain": "<Figure size 500x500 with 1 Axes>",
            "image/png": "[encoded data removed]"
          },
          "metadata": {}
        }
      ]
    },
    {
      "cell_type": "code",
      "source": [
        "df.isnull().sum()"
      ],
      "metadata": {
        "execution": {
          "iopub.status.busy": "2023-06-09T04:34:35.096635Z",
          "iopub.execute_input": "2023-06-09T04:34:35.097157Z",
          "iopub.status.idle": "2023-06-09T04:34:35.377638Z",
          "shell.execute_reply.started": "2023-06-09T04:34:35.097111Z",
          "shell.execute_reply": "2023-06-09T04:34:35.376106Z"
        },
        "trusted": true,
        "id": "3n0Mcc3PkRqV",
        "outputId": "5e77bf6f-65a2-4495-b9d3-654acb60897e"
      },
      "execution_count": null,
      "outputs": [
        {
          "execution_count": 23,
          "output_type": "execute_result",
          "data": {
            "text/plain": "Time           0\nAirline        0\nAirportFrom    0\nAirportTo      0\nDayOfWeek      0\nClass          0\ndtype: int64"
          },
          "metadata": {}
        }
      ]
    },
    {
      "cell_type": "markdown",
      "source": [
        "**Code for encoding**\n",
        "\n"
      ],
      "metadata": {
        "id": "u5LT5F4VkRqV"
      }
    },
    {
      "cell_type": "code",
      "source": [
        "\n",
        "df = pd.get_dummies(df, columns = ['Airline', 'AirportFrom','AirportTo'])\n",
        "print(df)"
      ],
      "metadata": {
        "execution": {
          "iopub.status.busy": "2023-06-09T04:35:48.611755Z",
          "iopub.execute_input": "2023-06-09T04:35:48.612173Z",
          "iopub.status.idle": "2023-06-09T04:35:50.871543Z",
          "shell.execute_reply.started": "2023-06-09T04:35:48.612142Z",
          "shell.execute_reply": "2023-06-09T04:35:50.870337Z"
        },
        "trusted": true,
        "id": "gXtLkLkmkRqV",
        "outputId": "717727bd-a57b-4a34-9177-0aca70a30392"
      },
      "execution_count": null,
      "outputs": [
        {
          "name": "stdout",
          "text": "          Time  DayOfWeek  Class  Airline_9E  Airline_AA  Airline_AS  \\\n0       1296.0          1      0           0           0           0   \n1        360.0          4      0           0           0           0   \n2       1170.0          3      0           0           0           0   \n3       1410.0          6      0           0           0           0   \n4        692.0          4      0           0           0           0   \n...        ...        ...    ...         ...         ...         ...   \n539377   530.0          5      1           0           0           0   \n539378   560.0          4      1           0           0           0   \n539379   827.0          2      1           0           0           0   \n539380   715.0          4      1           0           0           0   \n539381   770.0          2      1           0           0           0   \n\n        Airline_B6  Airline_CO  Airline_DL  Airline_EV  ...  AirportTo_TXK  \\\n0                0           0           1           0  ...              0   \n1                0           0           0           0  ...              0   \n2                1           0           0           0  ...              0   \n3                0           0           0           0  ...              0   \n4                0           0           0           0  ...              0   \n...            ...         ...         ...         ...  ...            ...   \n539377           0           0           0           0  ...              0   \n539378           0           0           0           0  ...              0   \n539379           0           0           0           1  ...              0   \n539380           0           0           0           0  ...              0   \n539381           0           0           0           0  ...              0   \n\n        AirportTo_TYR  AirportTo_TYS  AirportTo_UTM  AirportTo_VLD  \\\n0                   0              0              0              0   \n1                   0              0              0              0   \n2                   0              0              0              0   \n3                   0              0              0              0   \n4                   0              0              0              0   \n...               ...            ...            ...            ...   \n539377              0              0              0              0   \n539378              0              0              0              0   \n539379              0              0              0              0   \n539380              0              0              0              0   \n539381              0              0              0              0   \n\n        AirportTo_VPS  AirportTo_WRG  AirportTo_XNA  AirportTo_YAK  \\\n0                   0              0              0              0   \n1                   0              0              0              0   \n2                   0              0              0              0   \n3                   0              0              0              0   \n4                   0              0              0              0   \n...               ...            ...            ...            ...   \n539377              0              0              0              0   \n539378              0              0              0              0   \n539379              0              0              0              0   \n539380              0              0              0              0   \n539381              0              0              0              0   \n\n        AirportTo_YUM  \n0                   0  \n1                   0  \n2                   0  \n3                   0  \n4                   0  \n...               ...  \n539377              0  \n539378              0  \n539379              0  \n539380              0  \n539381              0  \n\n[539382 rows x 607 columns]\n",
          "output_type": "stream"
        }
      ]
    },
    {
      "cell_type": "code",
      "source": [
        "df"
      ],
      "metadata": {
        "execution": {
          "iopub.status.busy": "2023-06-09T04:35:54.573173Z",
          "iopub.execute_input": "2023-06-09T04:35:54.574975Z",
          "iopub.status.idle": "2023-06-09T04:35:54.632877Z",
          "shell.execute_reply.started": "2023-06-09T04:35:54.574930Z",
          "shell.execute_reply": "2023-06-09T04:35:54.631746Z"
        },
        "trusted": true,
        "id": "QG7Fa_-skRqV",
        "outputId": "dc1b711d-5fc6-41f9-b553-b543cfc3e44e"
      },
      "execution_count": null,
      "outputs": [
        {
          "execution_count": 28,
          "output_type": "execute_result",
          "data": {
            "text/plain": "          Time  DayOfWeek  Class  Airline_9E  Airline_AA  Airline_AS  \\\n0       1296.0          1      0           0           0           0   \n1        360.0          4      0           0           0           0   \n2       1170.0          3      0           0           0           0   \n3       1410.0          6      0           0           0           0   \n4        692.0          4      0           0           0           0   \n...        ...        ...    ...         ...         ...         ...   \n539377   530.0          5      1           0           0           0   \n539378   560.0          4      1           0           0           0   \n539379   827.0          2      1           0           0           0   \n539380   715.0          4      1           0           0           0   \n539381   770.0          2      1           0           0           0   \n\n        Airline_B6  Airline_CO  Airline_DL  Airline_EV  ...  AirportTo_TXK  \\\n0                0           0           1           0  ...              0   \n1                0           0           0           0  ...              0   \n2                1           0           0           0  ...              0   \n3                0           0           0           0  ...              0   \n4                0           0           0           0  ...              0   \n...            ...         ...         ...         ...  ...            ...   \n539377           0           0           0           0  ...              0   \n539378           0           0           0           0  ...              0   \n539379           0           0           0           1  ...              0   \n539380           0           0           0           0  ...              0   \n539381           0           0           0           0  ...              0   \n\n        AirportTo_TYR  AirportTo_TYS  AirportTo_UTM  AirportTo_VLD  \\\n0                   0              0              0              0   \n1                   0              0              0              0   \n2                   0              0              0              0   \n3                   0              0              0              0   \n4                   0              0              0              0   \n...               ...            ...            ...            ...   \n539377              0              0              0              0   \n539378              0              0              0              0   \n539379              0              0              0              0   \n539380              0              0              0              0   \n539381              0              0              0              0   \n\n        AirportTo_VPS  AirportTo_WRG  AirportTo_XNA  AirportTo_YAK  \\\n0                   0              0              0              0   \n1                   0              0              0              0   \n2                   0              0              0              0   \n3                   0              0              0              0   \n4                   0              0              0              0   \n...               ...            ...            ...            ...   \n539377              0              0              0              0   \n539378              0              0              0              0   \n539379              0              0              0              0   \n539380              0              0              0              0   \n539381              0              0              0              0   \n\n        AirportTo_YUM  \n0                   0  \n1                   0  \n2                   0  \n3                   0  \n4                   0  \n...               ...  \n539377              0  \n539378              0  \n539379              0  \n539380              0  \n539381              0  \n\n[539382 rows x 607 columns]",
            "text/html": "<div>\n<style scoped>\n    .dataframe tbody tr th:only-of-type {\n        vertical-align: middle;\n    }\n\n    .dataframe tbody tr th {\n        vertical-align: top;\n    }\n\n    .dataframe thead th {\n        text-align: right;\n    }\n</style>\n<table border=\"1\" class=\"dataframe\">\n  <thead>\n    <tr style=\"text-align: right;\">\n      <th></th>\n      <th>Time</th>\n      <th>DayOfWeek</th>\n      <th>Class</th>\n      <th>Airline_9E</th>\n      <th>Airline_AA</th>\n      <th>Airline_AS</th>\n      <th>Airline_B6</th>\n      <th>Airline_CO</th>\n      <th>Airline_DL</th>\n      <th>Airline_EV</th>\n      <th>...</th>\n      <th>AirportTo_TXK</th>\n      <th>AirportTo_TYR</th>\n      <th>AirportTo_TYS</th>\n      <th>AirportTo_UTM</th>\n      <th>AirportTo_VLD</th>\n      <th>AirportTo_VPS</th>\n      <th>AirportTo_WRG</th>\n      <th>AirportTo_XNA</th>\n      <th>AirportTo_YAK</th>\n      <th>AirportTo_YUM</th>\n    </tr>\n  </thead>\n  <tbody>\n    <tr>\n      <th>0</th>\n      <td>1296.0</td>\n      <td>1</td>\n      <td>0</td>\n      <td>0</td>\n      <td>0</td>\n      <td>0</td>\n      <td>0</td>\n      <td>0</td>\n      <td>1</td>\n      <td>0</td>\n      <td>...</td>\n      <td>0</td>\n      <td>0</td>\n      <td>0</td>\n      <td>0</td>\n      <td>0</td>\n      <td>0</td>\n      <td>0</td>\n      <td>0</td>\n      <td>0</td>\n      <td>0</td>\n    </tr>\n    <tr>\n      <th>1</th>\n      <td>360.0</td>\n      <td>4</td>\n      <td>0</td>\n      <td>0</td>\n      <td>0</td>\n      <td>0</td>\n      <td>0</td>\n      <td>0</td>\n      <td>0</td>\n      <td>0</td>\n      <td>...</td>\n      <td>0</td>\n      <td>0</td>\n      <td>0</td>\n      <td>0</td>\n      <td>0</td>\n      <td>0</td>\n      <td>0</td>\n      <td>0</td>\n      <td>0</td>\n      <td>0</td>\n    </tr>\n    <tr>\n      <th>2</th>\n      <td>1170.0</td>\n      <td>3</td>\n      <td>0</td>\n      <td>0</td>\n      <td>0</td>\n      <td>0</td>\n      <td>1</td>\n      <td>0</td>\n      <td>0</td>\n      <td>0</td>\n      <td>...</td>\n      <td>0</td>\n      <td>0</td>\n      <td>0</td>\n      <td>0</td>\n      <td>0</td>\n      <td>0</td>\n      <td>0</td>\n      <td>0</td>\n      <td>0</td>\n      <td>0</td>\n    </tr>\n    <tr>\n      <th>3</th>\n      <td>1410.0</td>\n      <td>6</td>\n      <td>0</td>\n      <td>0</td>\n      <td>0</td>\n      <td>0</td>\n      <td>0</td>\n      <td>0</td>\n      <td>0</td>\n      <td>0</td>\n      <td>...</td>\n      <td>0</td>\n      <td>0</td>\n      <td>0</td>\n      <td>0</td>\n      <td>0</td>\n      <td>0</td>\n      <td>0</td>\n      <td>0</td>\n      <td>0</td>\n      <td>0</td>\n    </tr>\n    <tr>\n      <th>4</th>\n      <td>692.0</td>\n      <td>4</td>\n      <td>0</td>\n      <td>0</td>\n      <td>0</td>\n      <td>0</td>\n      <td>0</td>\n      <td>0</td>\n      <td>0</td>\n      <td>0</td>\n      <td>...</td>\n      <td>0</td>\n      <td>0</td>\n      <td>0</td>\n      <td>0</td>\n      <td>0</td>\n      <td>0</td>\n      <td>0</td>\n      <td>0</td>\n      <td>0</td>\n      <td>0</td>\n    </tr>\n    <tr>\n      <th>...</th>\n      <td>...</td>\n      <td>...</td>\n      <td>...</td>\n      <td>...</td>\n      <td>...</td>\n      <td>...</td>\n      <td>...</td>\n      <td>...</td>\n      <td>...</td>\n      <td>...</td>\n      <td>...</td>\n      <td>...</td>\n      <td>...</td>\n      <td>...</td>\n      <td>...</td>\n      <td>...</td>\n      <td>...</td>\n      <td>...</td>\n      <td>...</td>\n      <td>...</td>\n      <td>...</td>\n    </tr>\n    <tr>\n      <th>539377</th>\n      <td>530.0</td>\n      <td>5</td>\n      <td>1</td>\n      <td>0</td>\n      <td>0</td>\n      <td>0</td>\n      <td>0</td>\n      <td>0</td>\n      <td>0</td>\n      <td>0</td>\n      <td>...</td>\n      <td>0</td>\n      <td>0</td>\n      <td>0</td>\n      <td>0</td>\n      <td>0</td>\n      <td>0</td>\n      <td>0</td>\n      <td>0</td>\n      <td>0</td>\n      <td>0</td>\n    </tr>\n    <tr>\n      <th>539378</th>\n      <td>560.0</td>\n      <td>4</td>\n      <td>1</td>\n      <td>0</td>\n      <td>0</td>\n      <td>0</td>\n      <td>0</td>\n      <td>0</td>\n      <td>0</td>\n      <td>0</td>\n      <td>...</td>\n      <td>0</td>\n      <td>0</td>\n      <td>0</td>\n      <td>0</td>\n      <td>0</td>\n      <td>0</td>\n      <td>0</td>\n      <td>0</td>\n      <td>0</td>\n      <td>0</td>\n    </tr>\n    <tr>\n      <th>539379</th>\n      <td>827.0</td>\n      <td>2</td>\n      <td>1</td>\n      <td>0</td>\n      <td>0</td>\n      <td>0</td>\n      <td>0</td>\n      <td>0</td>\n      <td>0</td>\n      <td>1</td>\n      <td>...</td>\n      <td>0</td>\n      <td>0</td>\n      <td>0</td>\n      <td>0</td>\n      <td>0</td>\n      <td>0</td>\n      <td>0</td>\n      <td>0</td>\n      <td>0</td>\n      <td>0</td>\n    </tr>\n    <tr>\n      <th>539380</th>\n      <td>715.0</td>\n      <td>4</td>\n      <td>1</td>\n      <td>0</td>\n      <td>0</td>\n      <td>0</td>\n      <td>0</td>\n      <td>0</td>\n      <td>0</td>\n      <td>0</td>\n      <td>...</td>\n      <td>0</td>\n      <td>0</td>\n      <td>0</td>\n      <td>0</td>\n      <td>0</td>\n      <td>0</td>\n      <td>0</td>\n      <td>0</td>\n      <td>0</td>\n      <td>0</td>\n    </tr>\n    <tr>\n      <th>539381</th>\n      <td>770.0</td>\n      <td>2</td>\n      <td>1</td>\n      <td>0</td>\n      <td>0</td>\n      <td>0</td>\n      <td>0</td>\n      <td>0</td>\n      <td>0</td>\n      <td>0</td>\n      <td>...</td>\n      <td>0</td>\n      <td>0</td>\n      <td>0</td>\n      <td>0</td>\n      <td>0</td>\n      <td>0</td>\n      <td>0</td>\n      <td>0</td>\n      <td>0</td>\n      <td>0</td>\n    </tr>\n  </tbody>\n</table>\n<p>539382 rows × 607 columns</p>\n</div>"
          },
          "metadata": {}
        }
      ]
    },
    {
      "cell_type": "code",
      "source": [
        "X=df.drop(columns='Class')\n",
        "y=df['Class']"
      ],
      "metadata": {
        "execution": {
          "iopub.status.busy": "2023-06-09T04:47:36.704062Z",
          "iopub.execute_input": "2023-06-09T04:47:36.704445Z",
          "iopub.status.idle": "2023-06-09T04:47:37.313742Z",
          "shell.execute_reply.started": "2023-06-09T04:47:36.704417Z",
          "shell.execute_reply": "2023-06-09T04:47:37.311412Z"
        },
        "trusted": true,
        "id": "Jf8FQydPkRqW"
      },
      "execution_count": null,
      "outputs": []
    },
    {
      "cell_type": "code",
      "source": [
        "len(df.columns)"
      ],
      "metadata": {
        "execution": {
          "iopub.status.busy": "2023-06-09T04:47:55.378761Z",
          "iopub.execute_input": "2023-06-09T04:47:55.379153Z",
          "iopub.status.idle": "2023-06-09T04:47:55.386617Z",
          "shell.execute_reply.started": "2023-06-09T04:47:55.379125Z",
          "shell.execute_reply": "2023-06-09T04:47:55.385278Z"
        },
        "trusted": true,
        "id": "vrSQK2vQkRqW",
        "outputId": "f3c1d6c2-c0b9-4bac-d4e1-54b9e883c18e"
      },
      "execution_count": null,
      "outputs": [
        {
          "execution_count": 42,
          "output_type": "execute_result",
          "data": {
            "text/plain": "607"
          },
          "metadata": {}
        }
      ]
    },
    {
      "cell_type": "code",
      "source": [
        "from sklearn.decomposition import PCA\n",
        "pca = PCA(n_components=7)"
      ],
      "metadata": {
        "execution": {
          "iopub.status.busy": "2023-06-09T04:47:56.393134Z",
          "iopub.execute_input": "2023-06-09T04:47:56.393526Z",
          "iopub.status.idle": "2023-06-09T04:47:56.400001Z",
          "shell.execute_reply.started": "2023-06-09T04:47:56.393498Z",
          "shell.execute_reply": "2023-06-09T04:47:56.398813Z"
        },
        "trusted": true,
        "id": "mXZD-E1OkRqW"
      },
      "execution_count": null,
      "outputs": []
    },
    {
      "cell_type": "code",
      "source": [
        "af_pca=pca.fit_transform(X)"
      ],
      "metadata": {
        "execution": {
          "iopub.status.busy": "2023-06-09T04:48:02.841808Z",
          "iopub.execute_input": "2023-06-09T04:48:02.842208Z",
          "iopub.status.idle": "2023-06-09T04:48:24.881272Z",
          "shell.execute_reply.started": "2023-06-09T04:48:02.842176Z",
          "shell.execute_reply": "2023-06-09T04:48:24.879597Z"
        },
        "trusted": true,
        "id": "vCm8GkPZkRqW"
      },
      "execution_count": null,
      "outputs": []
    },
    {
      "cell_type": "code",
      "source": [
        "new_df=pd.DataFrame(data=af_pca)"
      ],
      "metadata": {
        "execution": {
          "iopub.status.busy": "2023-06-09T04:48:24.883103Z",
          "iopub.execute_input": "2023-06-09T04:48:24.883492Z",
          "iopub.status.idle": "2023-06-09T04:48:24.888220Z",
          "shell.execute_reply.started": "2023-06-09T04:48:24.883462Z",
          "shell.execute_reply": "2023-06-09T04:48:24.887033Z"
        },
        "trusted": true,
        "id": "gTblk2uNkRqW"
      },
      "execution_count": null,
      "outputs": []
    },
    {
      "cell_type": "code",
      "source": [
        "new_df"
      ],
      "metadata": {
        "execution": {
          "iopub.status.busy": "2023-06-09T04:48:26.098567Z",
          "iopub.execute_input": "2023-06-09T04:48:26.098971Z",
          "iopub.status.idle": "2023-06-09T04:48:26.116069Z",
          "shell.execute_reply.started": "2023-06-09T04:48:26.098939Z",
          "shell.execute_reply": "2023-06-09T04:48:26.114896Z"
        },
        "trusted": true,
        "id": "bbOJoBx-kRqW",
        "outputId": "4e054d0f-ebc6-4614-cf98-fbda0605806a"
      },
      "execution_count": null,
      "outputs": [
        {
          "execution_count": 46,
          "output_type": "execute_result",
          "data": {
            "text/plain": "                 0         1         2         3         4         5         6\n0      -493.271873 -2.933723 -0.452510  0.942312 -0.067877 -0.219165 -0.032545\n1       442.728183  0.074432 -0.203348 -0.421121  0.712669 -0.373501 -0.104930\n2      -367.271813 -0.932249 -0.110978 -0.097659 -0.003862  0.254058  0.188601\n3      -607.271854  2.065299 -0.064571 -0.130489  0.003273  0.511524  0.775931\n4       110.728196  0.072283 -0.239537  0.265247 -0.024311  0.125373 -0.048254\n...            ...       ...       ...       ...       ...       ...       ...\n539377  272.728137  1.073103 -0.142938 -0.307136  0.734841 -0.371669  0.071479\n539378  242.728177  0.071003  0.901771  0.115540  0.074255 -0.142146 -0.014222\n539379  -24.271767 -1.929668 -0.278640  0.315211 -0.029102  0.187256 -0.112330\n539380   87.728157  0.069468  0.868721  0.159030 -0.056315 -0.052760 -0.039988\n539381   32.728189 -1.929110 -0.133019 -0.349119  0.846096 -0.438366  0.064301\n\n[539382 rows x 7 columns]",
            "text/html": "<div>\n<style scoped>\n    .dataframe tbody tr th:only-of-type {\n        vertical-align: middle;\n    }\n\n    .dataframe tbody tr th {\n        vertical-align: top;\n    }\n\n    .dataframe thead th {\n        text-align: right;\n    }\n</style>\n<table border=\"1\" class=\"dataframe\">\n  <thead>\n    <tr style=\"text-align: right;\">\n      <th></th>\n      <th>0</th>\n      <th>1</th>\n      <th>2</th>\n      <th>3</th>\n      <th>4</th>\n      <th>5</th>\n      <th>6</th>\n    </tr>\n  </thead>\n  <tbody>\n    <tr>\n      <th>0</th>\n      <td>-493.271873</td>\n      <td>-2.933723</td>\n      <td>-0.452510</td>\n      <td>0.942312</td>\n      <td>-0.067877</td>\n      <td>-0.219165</td>\n      <td>-0.032545</td>\n    </tr>\n    <tr>\n      <th>1</th>\n      <td>442.728183</td>\n      <td>0.074432</td>\n      <td>-0.203348</td>\n      <td>-0.421121</td>\n      <td>0.712669</td>\n      <td>-0.373501</td>\n      <td>-0.104930</td>\n    </tr>\n    <tr>\n      <th>2</th>\n      <td>-367.271813</td>\n      <td>-0.932249</td>\n      <td>-0.110978</td>\n      <td>-0.097659</td>\n      <td>-0.003862</td>\n      <td>0.254058</td>\n      <td>0.188601</td>\n    </tr>\n    <tr>\n      <th>3</th>\n      <td>-607.271854</td>\n      <td>2.065299</td>\n      <td>-0.064571</td>\n      <td>-0.130489</td>\n      <td>0.003273</td>\n      <td>0.511524</td>\n      <td>0.775931</td>\n    </tr>\n    <tr>\n      <th>4</th>\n      <td>110.728196</td>\n      <td>0.072283</td>\n      <td>-0.239537</td>\n      <td>0.265247</td>\n      <td>-0.024311</td>\n      <td>0.125373</td>\n      <td>-0.048254</td>\n    </tr>\n    <tr>\n      <th>...</th>\n      <td>...</td>\n      <td>...</td>\n      <td>...</td>\n      <td>...</td>\n      <td>...</td>\n      <td>...</td>\n      <td>...</td>\n    </tr>\n    <tr>\n      <th>539377</th>\n      <td>272.728137</td>\n      <td>1.073103</td>\n      <td>-0.142938</td>\n      <td>-0.307136</td>\n      <td>0.734841</td>\n      <td>-0.371669</td>\n      <td>0.071479</td>\n    </tr>\n    <tr>\n      <th>539378</th>\n      <td>242.728177</td>\n      <td>0.071003</td>\n      <td>0.901771</td>\n      <td>0.115540</td>\n      <td>0.074255</td>\n      <td>-0.142146</td>\n      <td>-0.014222</td>\n    </tr>\n    <tr>\n      <th>539379</th>\n      <td>-24.271767</td>\n      <td>-1.929668</td>\n      <td>-0.278640</td>\n      <td>0.315211</td>\n      <td>-0.029102</td>\n      <td>0.187256</td>\n      <td>-0.112330</td>\n    </tr>\n    <tr>\n      <th>539380</th>\n      <td>87.728157</td>\n      <td>0.069468</td>\n      <td>0.868721</td>\n      <td>0.159030</td>\n      <td>-0.056315</td>\n      <td>-0.052760</td>\n      <td>-0.039988</td>\n    </tr>\n    <tr>\n      <th>539381</th>\n      <td>32.728189</td>\n      <td>-1.929110</td>\n      <td>-0.133019</td>\n      <td>-0.349119</td>\n      <td>0.846096</td>\n      <td>-0.438366</td>\n      <td>0.064301</td>\n    </tr>\n  </tbody>\n</table>\n<p>539382 rows × 7 columns</p>\n</div>"
          },
          "metadata": {}
        }
      ]
    },
    {
      "cell_type": "code",
      "source": [
        "from sklearn.model_selection import train_test_split\n",
        "X_train, X_test, y_train, y_test = train_test_split(\n",
        " new_df, y, test_size=0.20, random_state=42)"
      ],
      "metadata": {
        "execution": {
          "iopub.status.busy": "2023-06-09T04:49:13.904338Z",
          "iopub.execute_input": "2023-06-09T04:49:13.905293Z",
          "iopub.status.idle": "2023-06-09T04:49:14.048167Z",
          "shell.execute_reply.started": "2023-06-09T04:49:13.905223Z",
          "shell.execute_reply": "2023-06-09T04:49:14.046868Z"
        },
        "trusted": true,
        "id": "ly5XR2M9kRqX"
      },
      "execution_count": null,
      "outputs": []
    },
    {
      "cell_type": "code",
      "source": [
        "X_train.shape\n",
        "X_test.shape"
      ],
      "metadata": {
        "execution": {
          "iopub.status.busy": "2023-06-09T04:49:39.867509Z",
          "iopub.execute_input": "2023-06-09T04:49:39.868014Z",
          "iopub.status.idle": "2023-06-09T04:49:39.875913Z",
          "shell.execute_reply.started": "2023-06-09T04:49:39.867972Z",
          "shell.execute_reply": "2023-06-09T04:49:39.874800Z"
        },
        "trusted": true,
        "id": "U7h9svIqkRqX",
        "outputId": "78d95fc8-900a-4a3d-9786-c217b843df84"
      },
      "execution_count": null,
      "outputs": [
        {
          "execution_count": 50,
          "output_type": "execute_result",
          "data": {
            "text/plain": "(107877, 7)"
          },
          "metadata": {}
        }
      ]
    },
    {
      "cell_type": "code",
      "source": [
        "from sklearn.neighbors import KNeighborsClassifier\n",
        "from sklearn import metrics\n",
        "from sklearn.metrics import classification_report, confusion_matrix"
      ],
      "metadata": {
        "execution": {
          "iopub.status.busy": "2023-06-09T04:50:29.696571Z",
          "iopub.execute_input": "2023-06-09T04:50:29.696947Z",
          "iopub.status.idle": "2023-06-09T04:50:29.765738Z",
          "shell.execute_reply.started": "2023-06-09T04:50:29.696920Z",
          "shell.execute_reply": "2023-06-09T04:50:29.764282Z"
        },
        "trusted": true,
        "id": "6JzfhP-vkRqX"
      },
      "execution_count": null,
      "outputs": []
    },
    {
      "cell_type": "code",
      "source": [
        "knn = KNeighborsClassifier(n_neighbors=3)"
      ],
      "metadata": {
        "execution": {
          "iopub.status.busy": "2023-06-09T04:51:37.773139Z",
          "iopub.execute_input": "2023-06-09T04:51:37.773559Z",
          "iopub.status.idle": "2023-06-09T04:51:37.780115Z",
          "shell.execute_reply.started": "2023-06-09T04:51:37.773528Z",
          "shell.execute_reply": "2023-06-09T04:51:37.778134Z"
        },
        "trusted": true,
        "id": "dA57mIBSkRqX"
      },
      "execution_count": null,
      "outputs": []
    },
    {
      "cell_type": "code",
      "source": [
        "knn.fit(X_train, y_train)"
      ],
      "metadata": {
        "execution": {
          "iopub.status.busy": "2023-06-09T04:51:38.205196Z",
          "iopub.execute_input": "2023-06-09T04:51:38.205612Z",
          "iopub.status.idle": "2023-06-09T04:51:39.220409Z",
          "shell.execute_reply.started": "2023-06-09T04:51:38.205583Z",
          "shell.execute_reply": "2023-06-09T04:51:39.219473Z"
        },
        "trusted": true,
        "id": "aM5Fwu2pkRqX",
        "outputId": "50177d23-54c9-42c3-c480-a99b003849b0"
      },
      "execution_count": null,
      "outputs": [
        {
          "execution_count": 66,
          "output_type": "execute_result",
          "data": {
            "text/plain": "KNeighborsClassifier(n_neighbors=3)",
            "text/html": "<style>#sk-container-id-5 {color: black;background-color: white;}#sk-container-id-5 pre{padding: 0;}#sk-container-id-5 div.sk-toggleable {background-color: white;}#sk-container-id-5 label.sk-toggleable__label {cursor: pointer;display: block;width: 100%;margin-bottom: 0;padding: 0.3em;box-sizing: border-box;text-align: center;}#sk-container-id-5 label.sk-toggleable__label-arrow:before {content: \"▸\";float: left;margin-right: 0.25em;color: #696969;}#sk-container-id-5 label.sk-toggleable__label-arrow:hover:before {color: black;}#sk-container-id-5 div.sk-estimator:hover label.sk-toggleable__label-arrow:before {color: black;}#sk-container-id-5 div.sk-toggleable__content {max-height: 0;max-width: 0;overflow: hidden;text-align: left;background-color: #f0f8ff;}#sk-container-id-5 div.sk-toggleable__content pre {margin: 0.2em;color: black;border-radius: 0.25em;background-color: #f0f8ff;}#sk-container-id-5 input.sk-toggleable__control:checked~div.sk-toggleable__content {max-height: 200px;max-width: 100%;overflow: auto;}#sk-container-id-5 input.sk-toggleable__control:checked~label.sk-toggleable__label-arrow:before {content: \"▾\";}#sk-container-id-5 div.sk-estimator input.sk-toggleable__control:checked~label.sk-toggleable__label {background-color: #d4ebff;}#sk-container-id-5 div.sk-label input.sk-toggleable__control:checked~label.sk-toggleable__label {background-color: #d4ebff;}#sk-container-id-5 input.sk-hidden--visually {border: 0;clip: rect(1px 1px 1px 1px);clip: rect(1px, 1px, 1px, 1px);height: 1px;margin: -1px;overflow: hidden;padding: 0;position: absolute;width: 1px;}#sk-container-id-5 div.sk-estimator {font-family: monospace;background-color: #f0f8ff;border: 1px dotted black;border-radius: 0.25em;box-sizing: border-box;margin-bottom: 0.5em;}#sk-container-id-5 div.sk-estimator:hover {background-color: #d4ebff;}#sk-container-id-5 div.sk-parallel-item::after {content: \"\";width: 100%;border-bottom: 1px solid gray;flex-grow: 1;}#sk-container-id-5 div.sk-label:hover label.sk-toggleable__label {background-color: #d4ebff;}#sk-container-id-5 div.sk-serial::before {content: \"\";position: absolute;border-left: 1px solid gray;box-sizing: border-box;top: 0;bottom: 0;left: 50%;z-index: 0;}#sk-container-id-5 div.sk-serial {display: flex;flex-direction: column;align-items: center;background-color: white;padding-right: 0.2em;padding-left: 0.2em;position: relative;}#sk-container-id-5 div.sk-item {position: relative;z-index: 1;}#sk-container-id-5 div.sk-parallel {display: flex;align-items: stretch;justify-content: center;background-color: white;position: relative;}#sk-container-id-5 div.sk-item::before, #sk-container-id-5 div.sk-parallel-item::before {content: \"\";position: absolute;border-left: 1px solid gray;box-sizing: border-box;top: 0;bottom: 0;left: 50%;z-index: -1;}#sk-container-id-5 div.sk-parallel-item {display: flex;flex-direction: column;z-index: 1;position: relative;background-color: white;}#sk-container-id-5 div.sk-parallel-item:first-child::after {align-self: flex-end;width: 50%;}#sk-container-id-5 div.sk-parallel-item:last-child::after {align-self: flex-start;width: 50%;}#sk-container-id-5 div.sk-parallel-item:only-child::after {width: 0;}#sk-container-id-5 div.sk-dashed-wrapped {border: 1px dashed gray;margin: 0 0.4em 0.5em 0.4em;box-sizing: border-box;padding-bottom: 0.4em;background-color: white;}#sk-container-id-5 div.sk-label label {font-family: monospace;font-weight: bold;display: inline-block;line-height: 1.2em;}#sk-container-id-5 div.sk-label-container {text-align: center;}#sk-container-id-5 div.sk-container {/* jupyter's `normalize.less` sets `[hidden] { display: none; }` but bootstrap.min.css set `[hidden] { display: none !important; }` so we also need the `!important` here to be able to override the default hidden behavior on the sphinx rendered scikit-learn.org. See: https://github.com/scikit-learn/scikit-learn/issues/21755 */display: inline-block !important;position: relative;}#sk-container-id-5 div.sk-text-repr-fallback {display: none;}</style><div id=\"sk-container-id-5\" class=\"sk-top-container\"><div class=\"sk-text-repr-fallback\"><pre>KNeighborsClassifier(n_neighbors=3)</pre><b>In a Jupyter environment, please rerun this cell to show the HTML representation or trust the notebook. <br />On GitHub, the HTML representation is unable to render, please try loading this page with nbviewer.org.</b></div><div class=\"sk-container\" hidden><div class=\"sk-item\"><div class=\"sk-estimator sk-toggleable\"><input class=\"sk-toggleable__control sk-hidden--visually\" id=\"sk-estimator-id-5\" type=\"checkbox\" checked><label for=\"sk-estimator-id-5\" class=\"sk-toggleable__label sk-toggleable__label-arrow\">KNeighborsClassifier</label><div class=\"sk-toggleable__content\"><pre>KNeighborsClassifier(n_neighbors=3)</pre></div></div></div></div></div>"
          },
          "metadata": {}
        }
      ]
    },
    {
      "cell_type": "code",
      "source": [
        "predictions = knn.predict(X_test)"
      ],
      "metadata": {
        "execution": {
          "iopub.status.busy": "2023-06-09T04:51:39.222931Z",
          "iopub.execute_input": "2023-06-09T04:51:39.223364Z",
          "iopub.status.idle": "2023-06-09T04:51:43.868106Z",
          "shell.execute_reply.started": "2023-06-09T04:51:39.223332Z",
          "shell.execute_reply": "2023-06-09T04:51:43.866358Z"
        },
        "trusted": true,
        "id": "sTncJjQjkRqX"
      },
      "execution_count": null,
      "outputs": []
    },
    {
      "cell_type": "code",
      "source": [
        "print(confusion_matrix(y_test, predictions))"
      ],
      "metadata": {
        "execution": {
          "iopub.status.busy": "2023-06-09T04:51:43.869932Z",
          "iopub.execute_input": "2023-06-09T04:51:43.870947Z",
          "iopub.status.idle": "2023-06-09T04:51:43.899922Z",
          "shell.execute_reply.started": "2023-06-09T04:51:43.870907Z",
          "shell.execute_reply": "2023-06-09T04:51:43.898112Z"
        },
        "trusted": true,
        "id": "nXUT_aBqkRqX",
        "outputId": "af116bec-85f9-42ac-baf9-8c2a6c72e26e"
      },
      "execution_count": null,
      "outputs": [
        {
          "name": "stdout",
          "text": "[[39974 19740]\n [22619 25544]]\n",
          "output_type": "stream"
        }
      ]
    },
    {
      "cell_type": "code",
      "source": [
        "print(classification_report(y_test, predictions))"
      ],
      "metadata": {
        "execution": {
          "iopub.status.busy": "2023-06-09T04:51:43.903204Z",
          "iopub.execute_input": "2023-06-09T04:51:43.904522Z",
          "iopub.status.idle": "2023-06-09T04:51:44.115729Z",
          "shell.execute_reply.started": "2023-06-09T04:51:43.904472Z",
          "shell.execute_reply": "2023-06-09T04:51:44.114444Z"
        },
        "trusted": true,
        "id": "1MPQvbVYkRqY",
        "outputId": "5b1e1aef-bdf1-4705-e211-b8fcee99753d"
      },
      "execution_count": null,
      "outputs": [
        {
          "name": "stdout",
          "text": "              precision    recall  f1-score   support\n\n           0       0.64      0.67      0.65     59714\n           1       0.56      0.53      0.55     48163\n\n    accuracy                           0.61    107877\n   macro avg       0.60      0.60      0.60    107877\nweighted avg       0.61      0.61      0.61    107877\n\n",
          "output_type": "stream"
        }
      ]
    },
    {
      "cell_type": "code",
      "source": [
        "from sklearn.tree import DecisionTreeClassifier"
      ],
      "metadata": {
        "execution": {
          "iopub.status.busy": "2023-06-09T04:52:43.058083Z",
          "iopub.execute_input": "2023-06-09T04:52:43.058452Z",
          "iopub.status.idle": "2023-06-09T04:52:43.111616Z",
          "shell.execute_reply.started": "2023-06-09T04:52:43.058426Z",
          "shell.execute_reply": "2023-06-09T04:52:43.110562Z"
        },
        "trusted": true,
        "id": "sQ52dOV4kRqY"
      },
      "execution_count": null,
      "outputs": []
    },
    {
      "cell_type": "code",
      "source": [
        "tree_clf = DecisionTreeClassifier(criterion='entropy',\n",
        "                                  max_depth=2)"
      ],
      "metadata": {
        "execution": {
          "iopub.status.busy": "2023-06-09T04:52:53.811434Z",
          "iopub.execute_input": "2023-06-09T04:52:53.811877Z",
          "iopub.status.idle": "2023-06-09T04:52:53.817092Z",
          "shell.execute_reply.started": "2023-06-09T04:52:53.811845Z",
          "shell.execute_reply": "2023-06-09T04:52:53.815781Z"
        },
        "trusted": true,
        "id": "-MTH3vjKkRqY"
      },
      "execution_count": null,
      "outputs": []
    },
    {
      "cell_type": "code",
      "source": [
        "tree_clf.fit(X_train, y_train)"
      ],
      "metadata": {
        "execution": {
          "iopub.status.busy": "2023-06-09T04:53:08.362478Z",
          "iopub.execute_input": "2023-06-09T04:53:08.362859Z",
          "iopub.status.idle": "2023-06-09T04:53:10.023119Z",
          "shell.execute_reply.started": "2023-06-09T04:53:08.362829Z",
          "shell.execute_reply": "2023-06-09T04:53:10.021569Z"
        },
        "trusted": true,
        "id": "K9MDKixBkRqY",
        "outputId": "bd12bd21-9363-40a1-8853-a17fd624aef1"
      },
      "execution_count": null,
      "outputs": [
        {
          "execution_count": 72,
          "output_type": "execute_result",
          "data": {
            "text/plain": "DecisionTreeClassifier(criterion='entropy', max_depth=2)",
            "text/html": "<style>#sk-container-id-6 {color: black;background-color: white;}#sk-container-id-6 pre{padding: 0;}#sk-container-id-6 div.sk-toggleable {background-color: white;}#sk-container-id-6 label.sk-toggleable__label {cursor: pointer;display: block;width: 100%;margin-bottom: 0;padding: 0.3em;box-sizing: border-box;text-align: center;}#sk-container-id-6 label.sk-toggleable__label-arrow:before {content: \"▸\";float: left;margin-right: 0.25em;color: #696969;}#sk-container-id-6 label.sk-toggleable__label-arrow:hover:before {color: black;}#sk-container-id-6 div.sk-estimator:hover label.sk-toggleable__label-arrow:before {color: black;}#sk-container-id-6 div.sk-toggleable__content {max-height: 0;max-width: 0;overflow: hidden;text-align: left;background-color: #f0f8ff;}#sk-container-id-6 div.sk-toggleable__content pre {margin: 0.2em;color: black;border-radius: 0.25em;background-color: #f0f8ff;}#sk-container-id-6 input.sk-toggleable__control:checked~div.sk-toggleable__content {max-height: 200px;max-width: 100%;overflow: auto;}#sk-container-id-6 input.sk-toggleable__control:checked~label.sk-toggleable__label-arrow:before {content: \"▾\";}#sk-container-id-6 div.sk-estimator input.sk-toggleable__control:checked~label.sk-toggleable__label {background-color: #d4ebff;}#sk-container-id-6 div.sk-label input.sk-toggleable__control:checked~label.sk-toggleable__label {background-color: #d4ebff;}#sk-container-id-6 input.sk-hidden--visually {border: 0;clip: rect(1px 1px 1px 1px);clip: rect(1px, 1px, 1px, 1px);height: 1px;margin: -1px;overflow: hidden;padding: 0;position: absolute;width: 1px;}#sk-container-id-6 div.sk-estimator {font-family: monospace;background-color: #f0f8ff;border: 1px dotted black;border-radius: 0.25em;box-sizing: border-box;margin-bottom: 0.5em;}#sk-container-id-6 div.sk-estimator:hover {background-color: #d4ebff;}#sk-container-id-6 div.sk-parallel-item::after {content: \"\";width: 100%;border-bottom: 1px solid gray;flex-grow: 1;}#sk-container-id-6 div.sk-label:hover label.sk-toggleable__label {background-color: #d4ebff;}#sk-container-id-6 div.sk-serial::before {content: \"\";position: absolute;border-left: 1px solid gray;box-sizing: border-box;top: 0;bottom: 0;left: 50%;z-index: 0;}#sk-container-id-6 div.sk-serial {display: flex;flex-direction: column;align-items: center;background-color: white;padding-right: 0.2em;padding-left: 0.2em;position: relative;}#sk-container-id-6 div.sk-item {position: relative;z-index: 1;}#sk-container-id-6 div.sk-parallel {display: flex;align-items: stretch;justify-content: center;background-color: white;position: relative;}#sk-container-id-6 div.sk-item::before, #sk-container-id-6 div.sk-parallel-item::before {content: \"\";position: absolute;border-left: 1px solid gray;box-sizing: border-box;top: 0;bottom: 0;left: 50%;z-index: -1;}#sk-container-id-6 div.sk-parallel-item {display: flex;flex-direction: column;z-index: 1;position: relative;background-color: white;}#sk-container-id-6 div.sk-parallel-item:first-child::after {align-self: flex-end;width: 50%;}#sk-container-id-6 div.sk-parallel-item:last-child::after {align-self: flex-start;width: 50%;}#sk-container-id-6 div.sk-parallel-item:only-child::after {width: 0;}#sk-container-id-6 div.sk-dashed-wrapped {border: 1px dashed gray;margin: 0 0.4em 0.5em 0.4em;box-sizing: border-box;padding-bottom: 0.4em;background-color: white;}#sk-container-id-6 div.sk-label label {font-family: monospace;font-weight: bold;display: inline-block;line-height: 1.2em;}#sk-container-id-6 div.sk-label-container {text-align: center;}#sk-container-id-6 div.sk-container {/* jupyter's `normalize.less` sets `[hidden] { display: none; }` but bootstrap.min.css set `[hidden] { display: none !important; }` so we also need the `!important` here to be able to override the default hidden behavior on the sphinx rendered scikit-learn.org. See: https://github.com/scikit-learn/scikit-learn/issues/21755 */display: inline-block !important;position: relative;}#sk-container-id-6 div.sk-text-repr-fallback {display: none;}</style><div id=\"sk-container-id-6\" class=\"sk-top-container\"><div class=\"sk-text-repr-fallback\"><pre>DecisionTreeClassifier(criterion=&#x27;entropy&#x27;, max_depth=2)</pre><b>In a Jupyter environment, please rerun this cell to show the HTML representation or trust the notebook. <br />On GitHub, the HTML representation is unable to render, please try loading this page with nbviewer.org.</b></div><div class=\"sk-container\" hidden><div class=\"sk-item\"><div class=\"sk-estimator sk-toggleable\"><input class=\"sk-toggleable__control sk-hidden--visually\" id=\"sk-estimator-id-6\" type=\"checkbox\" checked><label for=\"sk-estimator-id-6\" class=\"sk-toggleable__label sk-toggleable__label-arrow\">DecisionTreeClassifier</label><div class=\"sk-toggleable__content\"><pre>DecisionTreeClassifier(criterion=&#x27;entropy&#x27;, max_depth=2)</pre></div></div></div></div></div>"
          },
          "metadata": {}
        }
      ]
    },
    {
      "cell_type": "code",
      "source": [
        "predictions = tree_clf.predict(X_test)"
      ],
      "metadata": {
        "execution": {
          "iopub.status.busy": "2023-06-09T04:53:23.897913Z",
          "iopub.execute_input": "2023-06-09T04:53:23.898345Z",
          "iopub.status.idle": "2023-06-09T04:53:23.911090Z",
          "shell.execute_reply.started": "2023-06-09T04:53:23.898313Z",
          "shell.execute_reply": "2023-06-09T04:53:23.909720Z"
        },
        "trusted": true,
        "id": "PplfhRdOkRqY"
      },
      "execution_count": null,
      "outputs": []
    },
    {
      "cell_type": "code",
      "source": [
        "print(confusion_matrix(y_test, predictions))"
      ],
      "metadata": {
        "execution": {
          "iopub.status.busy": "2023-06-09T04:53:32.173088Z",
          "iopub.execute_input": "2023-06-09T04:53:32.173644Z",
          "iopub.status.idle": "2023-06-09T04:53:32.202770Z",
          "shell.execute_reply.started": "2023-06-09T04:53:32.173603Z",
          "shell.execute_reply": "2023-06-09T04:53:32.201437Z"
        },
        "trusted": true,
        "id": "gTwLG9RCkRqY",
        "outputId": "aac456bb-7b27-4304-b87a-0cb0f87a4455"
      },
      "execution_count": null,
      "outputs": [
        {
          "name": "stdout",
          "text": "[[56505  3209]\n [37271 10892]]\n",
          "output_type": "stream"
        }
      ]
    },
    {
      "cell_type": "code",
      "source": [
        "print(classification_report(y_test, predictions))"
      ],
      "metadata": {
        "execution": {
          "iopub.status.busy": "2023-06-09T04:53:40.110098Z",
          "iopub.execute_input": "2023-06-09T04:53:40.110965Z",
          "iopub.status.idle": "2023-06-09T04:53:40.298443Z",
          "shell.execute_reply.started": "2023-06-09T04:53:40.110925Z",
          "shell.execute_reply": "2023-06-09T04:53:40.297232Z"
        },
        "trusted": true,
        "id": "dqqB7cj_kRqY",
        "outputId": "c90ca642-c823-4efd-e635-0c2cff21fc64"
      },
      "execution_count": null,
      "outputs": [
        {
          "name": "stdout",
          "text": "              precision    recall  f1-score   support\n\n           0       0.60      0.95      0.74     59714\n           1       0.77      0.23      0.35     48163\n\n    accuracy                           0.62    107877\n   macro avg       0.69      0.59      0.54    107877\nweighted avg       0.68      0.62      0.56    107877\n\n",
          "output_type": "stream"
        }
      ]
    },
    {
      "cell_type": "code",
      "source": [
        "pip install --pre pycaret"
      ],
      "metadata": {
        "execution": {
          "iopub.status.busy": "2023-06-09T04:55:09.842011Z",
          "iopub.execute_input": "2023-06-09T04:55:09.842534Z",
          "iopub.status.idle": "2023-06-09T04:55:40.731129Z",
          "shell.execute_reply.started": "2023-06-09T04:55:09.842494Z",
          "shell.execute_reply": "2023-06-09T04:55:40.729292Z"
        },
        "trusted": true,
        "id": "dDCM5XjokRqZ",
        "outputId": "70862ad3-84a0-43a9-fba2-28c6b34b06da"
      },
      "execution_count": null,
      "outputs": [
        {
          "name": "stdout",
          "text": "Collecting pycaret\n  Downloading pycaret-3.0.2-py3-none-any.whl (483 kB)\n\u001b[2K     \u001b[90m━━━━━━━━━━━━━━━━━━━━━━━━━━━━━━━━━━━━━━━\u001b[0m \u001b[32m483.6/483.6 kB\u001b[0m \u001b[31m8.6 MB/s\u001b[0m eta \u001b[36m0:00:00\u001b[0ma \u001b[36m0:00:01\u001b[0m\n\u001b[?25hRequirement already satisfied: ipython>=5.5.0 in /opt/conda/lib/python3.10/site-packages (from pycaret) (8.13.2)\nRequirement already satisfied: ipywidgets>=7.6.5 in /opt/conda/lib/python3.10/site-packages (from pycaret) (7.7.1)\nRequirement already satisfied: tqdm>=4.62.0 in /opt/conda/lib/python3.10/site-packages (from pycaret) (4.64.1)\nRequirement already satisfied: numpy<1.24,>=1.21 in /opt/conda/lib/python3.10/site-packages (from pycaret) (1.23.5)\nRequirement already satisfied: pandas<2.0.0,>=1.3.0 in /opt/conda/lib/python3.10/site-packages (from pycaret) (1.5.3)\nRequirement already satisfied: jinja2>=1.2 in /opt/conda/lib/python3.10/site-packages (from pycaret) (3.1.2)\nRequirement already satisfied: scipy<2.0.0 in /opt/conda/lib/python3.10/site-packages (from pycaret) (1.10.1)\nRequirement already satisfied: joblib>=1.2.0 in /opt/conda/lib/python3.10/site-packages (from pycaret) (1.2.0)\nRequirement already satisfied: scikit-learn>=1.0 in /opt/conda/lib/python3.10/site-packages (from pycaret) (1.2.2)\nCollecting pyod>=1.0.8 (from pycaret)\n  Downloading pyod-1.0.9.tar.gz (149 kB)\n\u001b[2K     \u001b[90m━━━━━━━━━━━━━━━━━━━━━━━━━━━━━━━━━━━━━━\u001b[0m \u001b[32m150.0/150.0 kB\u001b[0m \u001b[31m13.8 MB/s\u001b[0m eta \u001b[36m0:00:00\u001b[0m\n\u001b[?25h  Preparing metadata (setup.py) ... \u001b[?25ldone\n\u001b[?25hRequirement already satisfied: imbalanced-learn>=0.8.1 in /opt/conda/lib/python3.10/site-packages (from pycaret) (0.10.1)\nRequirement already satisfied: category-encoders>=2.4.0 in /opt/conda/lib/python3.10/site-packages (from pycaret) (2.6.1)\nRequirement already satisfied: lightgbm>=3.0.0 in /opt/conda/lib/python3.10/site-packages (from pycaret) (3.3.2)\nRequirement already satisfied: numba>=0.55.0 in /opt/conda/lib/python3.10/site-packages (from pycaret) (0.57.0)\nRequirement already satisfied: requests>=2.27.1 in /opt/conda/lib/python3.10/site-packages (from pycaret) (2.28.2)\nRequirement already satisfied: psutil>=5.9.0 in /opt/conda/lib/python3.10/site-packages (from pycaret) (5.9.3)\nRequirement already satisfied: markupsafe>=2.0.1 in /opt/conda/lib/python3.10/site-packages (from pycaret) (2.1.2)\nRequirement already satisfied: importlib-metadata>=4.12.0 in /opt/conda/lib/python3.10/site-packages (from pycaret) (5.2.0)\nRequirement already satisfied: nbformat>=4.2.0 in /opt/conda/lib/python3.10/site-packages (from pycaret) (5.8.0)\nRequirement already satisfied: cloudpickle in /opt/conda/lib/python3.10/site-packages (from pycaret) (2.2.1)\nRequirement already satisfied: deprecation>=2.1.0 in /opt/conda/lib/python3.10/site-packages (from pycaret) (2.1.0)\nRequirement already satisfied: xxhash in /opt/conda/lib/python3.10/site-packages (from pycaret) (3.2.0)\nRequirement already satisfied: matplotlib>=3.3.0 in /opt/conda/lib/python3.10/site-packages (from pycaret) (3.6.3)\nRequirement already satisfied: scikit-plot>=0.3.7 in /opt/conda/lib/python3.10/site-packages (from pycaret) (0.3.7)\nRequirement already satisfied: yellowbrick>=1.4 in /opt/conda/lib/python3.10/site-packages (from pycaret) (1.5)\nRequirement already satisfied: plotly>=5.0.0 in /opt/conda/lib/python3.10/site-packages (from pycaret) (5.14.1)\nCollecting kaleido>=0.2.1 (from pycaret)\n  Downloading kaleido-0.2.1-py2.py3-none-manylinux1_x86_64.whl (79.9 MB)\n\u001b[2K     \u001b[90m━━━━━━━━━━━━━━━━━━━━━━━━━━━━━━━━━━━━━━━━\u001b[0m \u001b[32m79.9/79.9 MB\u001b[0m \u001b[31m14.1 MB/s\u001b[0m eta \u001b[36m0:00:00\u001b[0m00:01\u001b[0m00:01\u001b[0m\n\u001b[?25hCollecting schemdraw==0.15 (from pycaret)\n  Downloading schemdraw-0.15-py3-none-any.whl (106 kB)\n\u001b[2K     \u001b[90m━━━━━━━━━━━━━━━━━━━━━━━━━━━━━━━━━━━━━━\u001b[0m \u001b[32m106.8/106.8 kB\u001b[0m \u001b[31m10.3 MB/s\u001b[0m eta \u001b[36m0:00:00\u001b[0m\n\u001b[?25hCollecting plotly-resampler>=0.8.3.1 (from pycaret)\n  Downloading plotly_resampler-0.9.0rc5-py3-none-any.whl (72 kB)\n\u001b[2K     \u001b[90m━━━━━━━━━━━━━━━━━━━━━━━━━━━━━━━━━━━━━━━━\u001b[0m \u001b[32m72.1/72.1 kB\u001b[0m \u001b[31m7.4 MB/s\u001b[0m eta \u001b[36m0:00:00\u001b[0m\n\u001b[?25hRequirement already satisfied: statsmodels>=0.12.1 in /opt/conda/lib/python3.10/site-packages (from pycaret) (0.13.5)\nCollecting sktime!=0.17.1,<0.17.2,>=0.16.1 (from pycaret)\n  Downloading sktime-0.17.0-py3-none-any.whl (16.1 MB)\n\u001b[2K     \u001b[90m━━━━━━━━━━━━━━━━━━━━━━━━━━━━━━━━━━━━━━━━\u001b[0m \u001b[32m16.1/16.1 MB\u001b[0m \u001b[31m61.6 MB/s\u001b[0m eta \u001b[36m0:00:00\u001b[0m00:01\u001b[0m00:01\u001b[0m\n\u001b[?25hCollecting tbats>=1.1.3 (from pycaret)\n  Downloading tbats-1.1.3-py3-none-any.whl (44 kB)\n\u001b[2K     \u001b[90m━━━━━━━━━━━━━━━━━━━━━━━━━━━━━━━━━━━━━━━━\u001b[0m \u001b[32m44.0/44.0 kB\u001b[0m \u001b[31m3.5 MB/s\u001b[0m eta \u001b[36m0:00:00\u001b[0m\n\u001b[?25hCollecting pmdarima!=1.8.1,<3.0.0,>=1.8.0 (from pycaret)\n  Downloading pmdarima-2.0.3-cp310-cp310-manylinux_2_17_x86_64.manylinux2014_x86_64.manylinux_2_28_x86_64.whl (1.8 MB)\n\u001b[2K     \u001b[90m━━━━━━━━━━━━━━━━━━━━━━━━━━━━━━━━━━━━━━━━\u001b[0m \u001b[32m1.8/1.8 MB\u001b[0m \u001b[31m57.1 MB/s\u001b[0m eta \u001b[36m0:00:00\u001b[0m\n\u001b[?25hRequirement already satisfied: wurlitzer in /opt/conda/lib/python3.10/site-packages (from pycaret) (3.0.3)\nRequirement already satisfied: patsy>=0.5.1 in /opt/conda/lib/python3.10/site-packages (from category-encoders>=2.4.0->pycaret) (0.5.3)\nRequirement already satisfied: packaging in /opt/conda/lib/python3.10/site-packages (from deprecation>=2.1.0->pycaret) (21.3)\nRequirement already satisfied: threadpoolctl>=2.0.0 in /opt/conda/lib/python3.10/site-packages (from imbalanced-learn>=0.8.1->pycaret) (3.1.0)\nRequirement already satisfied: zipp>=0.5 in /opt/conda/lib/python3.10/site-packages (from importlib-metadata>=4.12.0->pycaret) (3.15.0)\nRequirement already satisfied: backcall in /opt/conda/lib/python3.10/site-packages (from ipython>=5.5.0->pycaret) (0.2.0)\nRequirement already satisfied: decorator in /opt/conda/lib/python3.10/site-packages (from ipython>=5.5.0->pycaret) (5.1.1)\nRequirement already satisfied: jedi>=0.16 in /opt/conda/lib/python3.10/site-packages (from ipython>=5.5.0->pycaret) (0.18.2)\nRequirement already satisfied: matplotlib-inline in /opt/conda/lib/python3.10/site-packages (from ipython>=5.5.0->pycaret) (0.1.6)\nRequirement already satisfied: pickleshare in /opt/conda/lib/python3.10/site-packages (from ipython>=5.5.0->pycaret) (0.7.5)\nRequirement already satisfied: prompt-toolkit!=3.0.37,<3.1.0,>=3.0.30 in /opt/conda/lib/python3.10/site-packages (from ipython>=5.5.0->pycaret) (3.0.38)\nRequirement already satisfied: pygments>=2.4.0 in /opt/conda/lib/python3.10/site-packages (from ipython>=5.5.0->pycaret) (2.15.1)\nRequirement already satisfied: stack-data in /opt/conda/lib/python3.10/site-packages (from ipython>=5.5.0->pycaret) (0.6.2)\nRequirement already satisfied: traitlets>=5 in /opt/conda/lib/python3.10/site-packages (from ipython>=5.5.0->pycaret) (5.9.0)\nRequirement already satisfied: pexpect>4.3 in /opt/conda/lib/python3.10/site-packages (from ipython>=5.5.0->pycaret) (4.8.0)\nRequirement already satisfied: ipykernel>=4.5.1 in /opt/conda/lib/python3.10/site-packages (from ipywidgets>=7.6.5->pycaret) (6.23.0)\nRequirement already satisfied: ipython-genutils~=0.2.0 in /opt/conda/lib/python3.10/site-packages (from ipywidgets>=7.6.5->pycaret) (0.2.0)\nRequirement already satisfied: widgetsnbextension~=3.6.0 in /opt/conda/lib/python3.10/site-packages (from ipywidgets>=7.6.5->pycaret) (3.6.4)\nRequirement already satisfied: jupyterlab-widgets>=1.0.0 in /opt/conda/lib/python3.10/site-packages (from ipywidgets>=7.6.5->pycaret) (3.0.7)\nRequirement already satisfied: wheel in /opt/conda/lib/python3.10/site-packages (from lightgbm>=3.0.0->pycaret) (0.40.0)\nRequirement already satisfied: contourpy>=1.0.1 in /opt/conda/lib/python3.10/site-packages (from matplotlib>=3.3.0->pycaret) (1.0.7)\nRequirement already satisfied: cycler>=0.10 in /opt/conda/lib/python3.10/site-packages (from matplotlib>=3.3.0->pycaret) (0.11.0)\nRequirement already satisfied: fonttools>=4.22.0 in /opt/conda/lib/python3.10/site-packages (from matplotlib>=3.3.0->pycaret) (4.39.3)\nRequirement already satisfied: kiwisolver>=1.0.1 in /opt/conda/lib/python3.10/site-packages (from matplotlib>=3.3.0->pycaret) (1.4.4)\nRequirement already satisfied: pillow>=6.2.0 in /opt/conda/lib/python3.10/site-packages (from matplotlib>=3.3.0->pycaret) (9.5.0)\nRequirement already satisfied: pyparsing>=2.2.1 in /opt/conda/lib/python3.10/site-packages (from matplotlib>=3.3.0->pycaret) (3.0.9)\nRequirement already satisfied: python-dateutil>=2.7 in /opt/conda/lib/python3.10/site-packages (from matplotlib>=3.3.0->pycaret) (2.8.2)\nRequirement already satisfied: fastjsonschema in /opt/conda/lib/python3.10/site-packages (from nbformat>=4.2.0->pycaret) (2.16.3)\nRequirement already satisfied: jsonschema>=2.6 in /opt/conda/lib/python3.10/site-packages (from nbformat>=4.2.0->pycaret) (4.17.3)\nRequirement already satisfied: jupyter-core in /opt/conda/lib/python3.10/site-packages (from nbformat>=4.2.0->pycaret) (5.3.0)\nRequirement already satisfied: llvmlite<0.41,>=0.40.0dev0 in /opt/conda/lib/python3.10/site-packages (from numba>=0.55.0->pycaret) (0.40.0)\nRequirement already satisfied: pytz>=2020.1 in /opt/conda/lib/python3.10/site-packages (from pandas<2.0.0,>=1.3.0->pycaret) (2023.3)\nRequirement already satisfied: tenacity>=6.2.0 in /opt/conda/lib/python3.10/site-packages (from plotly>=5.0.0->pycaret) (8.2.2)\nCollecting dash<3.0.0,>=2.2.0 (from plotly-resampler>=0.8.3.1->pycaret)\n  Downloading dash-2.10.2-py3-none-any.whl (10.3 MB)\n\u001b[2K     \u001b[90m━━━━━━━━━━━━━━━━━━━━━━━━━━━━━━━━━━━━━━━━\u001b[0m \u001b[32m10.3/10.3 MB\u001b[0m \u001b[31m73.3 MB/s\u001b[0m eta \u001b[36m0:00:00\u001b[0m00:01\u001b[0m00:01\u001b[0m\n\u001b[?25hCollecting jupyter-dash>=0.4.2 (from plotly-resampler>=0.8.3.1->pycaret)\n  Downloading jupyter_dash-0.4.2-py3-none-any.whl (23 kB)\nRequirement already satisfied: orjson<4.0.0,>=3.8.0 in /opt/conda/lib/python3.10/site-packages (from plotly-resampler>=0.8.3.1->pycaret) (3.8.12)\nCollecting trace-updater>=0.0.8 (from plotly-resampler>=0.8.3.1->pycaret)\n  Downloading trace_updater-0.0.9.1-py3-none-any.whl (185 kB)\n\u001b[2K     \u001b[90m━━━━━━━━━━━━━━━━━━━━━━━━━━━━━━━━━━━━━━\u001b[0m \u001b[32m185.2/185.2 kB\u001b[0m \u001b[31m17.7 MB/s\u001b[0m eta \u001b[36m0:00:00\u001b[0m\n\u001b[?25hCollecting tsdownsample==0.1.2 (from plotly-resampler>=0.8.3.1->pycaret)\n  Downloading tsdownsample-0.1.2-cp310-cp310-manylinux_2_17_x86_64.manylinux2014_x86_64.whl (2.3 MB)\n\u001b[2K     \u001b[90m━━━━━━━━━━━━━━━━━━━━━━━━━━━━━━━━━━━━━━━━\u001b[0m \u001b[32m2.3/2.3 MB\u001b[0m \u001b[31m63.8 MB/s\u001b[0m eta \u001b[36m0:00:00\u001b[0m:00:01\u001b[0m\n\u001b[?25hRequirement already satisfied: Cython!=0.29.18,!=0.29.31,>=0.29 in /opt/conda/lib/python3.10/site-packages (from pmdarima!=1.8.1,<3.0.0,>=1.8.0->pycaret) (0.29.34)\nRequirement already satisfied: urllib3 in /opt/conda/lib/python3.10/site-packages (from pmdarima!=1.8.1,<3.0.0,>=1.8.0->pycaret) (1.26.15)\nRequirement already satisfied: setuptools!=50.0.0,>=38.6.0 in /opt/conda/lib/python3.10/site-packages (from pmdarima!=1.8.1,<3.0.0,>=1.8.0->pycaret) (59.8.0)\nRequirement already satisfied: six in /opt/conda/lib/python3.10/site-packages (from pyod>=1.0.8->pycaret) (1.16.0)\nRequirement already satisfied: charset-normalizer<4,>=2 in /opt/conda/lib/python3.10/site-packages (from requests>=2.27.1->pycaret) (2.1.1)\nRequirement already satisfied: idna<4,>=2.5 in /opt/conda/lib/python3.10/site-packages (from requests>=2.27.1->pycaret) (3.4)\nRequirement already satisfied: certifi>=2017.4.17 in /opt/conda/lib/python3.10/site-packages (from requests>=2.27.1->pycaret) (2023.5.7)\nRequirement already satisfied: deprecated>=1.2.13 in /opt/conda/lib/python3.10/site-packages (from sktime!=0.17.1,<0.17.2,>=0.16.1->pycaret) (1.2.13)\nCollecting Flask<2.3.0,>=1.0.4 (from dash<3.0.0,>=2.2.0->plotly-resampler>=0.8.3.1->pycaret)\n  Downloading Flask-2.2.5-py3-none-any.whl (101 kB)\n\u001b[2K     \u001b[90m━━━━━━━━━━━━━━━━━━━━━━━━━━━━━━━━━━━━━━━\u001b[0m \u001b[32m101.8/101.8 kB\u001b[0m \u001b[31m8.9 MB/s\u001b[0m eta \u001b[36m0:00:00\u001b[0m\n\u001b[?25hCollecting Werkzeug<2.3.0 (from dash<3.0.0,>=2.2.0->plotly-resampler>=0.8.3.1->pycaret)\n  Downloading Werkzeug-2.2.3-py3-none-any.whl (233 kB)\n\u001b[2K     \u001b[90m━━━━━━━━━━━━━━━━━━━━━━━━━━━━━━━━━━━━━━\u001b[0m \u001b[32m233.6/233.6 kB\u001b[0m \u001b[31m20.0 MB/s\u001b[0m eta \u001b[36m0:00:00\u001b[0m\n\u001b[?25hCollecting dash-html-components==2.0.0 (from dash<3.0.0,>=2.2.0->plotly-resampler>=0.8.3.1->pycaret)\n  Downloading dash_html_components-2.0.0-py3-none-any.whl (4.1 kB)\nCollecting dash-core-components==2.0.0 (from dash<3.0.0,>=2.2.0->plotly-resampler>=0.8.3.1->pycaret)\n  Downloading dash_core_components-2.0.0-py3-none-any.whl (3.8 kB)\nCollecting dash-table==5.0.0 (from dash<3.0.0,>=2.2.0->plotly-resampler>=0.8.3.1->pycaret)\n  Downloading dash_table-5.0.0-py3-none-any.whl (3.9 kB)\nRequirement already satisfied: wrapt<2,>=1.10 in /opt/conda/lib/python3.10/site-packages (from deprecated>=1.2.13->sktime!=0.17.1,<0.17.2,>=0.16.1->pycaret) (1.14.1)\nRequirement already satisfied: comm>=0.1.1 in /opt/conda/lib/python3.10/site-packages (from ipykernel>=4.5.1->ipywidgets>=7.6.5->pycaret) (0.1.3)\nRequirement already satisfied: debugpy>=1.6.5 in /opt/conda/lib/python3.10/site-packages (from ipykernel>=4.5.1->ipywidgets>=7.6.5->pycaret) (1.6.7)\nRequirement already satisfied: jupyter-client>=6.1.12 in /opt/conda/lib/python3.10/site-packages (from ipykernel>=4.5.1->ipywidgets>=7.6.5->pycaret) (7.4.9)\nRequirement already satisfied: nest-asyncio in /opt/conda/lib/python3.10/site-packages (from ipykernel>=4.5.1->ipywidgets>=7.6.5->pycaret) (1.5.6)\nRequirement already satisfied: pyzmq>=20 in /opt/conda/lib/python3.10/site-packages (from ipykernel>=4.5.1->ipywidgets>=7.6.5->pycaret) (25.0.2)\nRequirement already satisfied: tornado>=6.1 in /opt/conda/lib/python3.10/site-packages (from ipykernel>=4.5.1->ipywidgets>=7.6.5->pycaret) (6.3.1)\nRequirement already satisfied: parso<0.9.0,>=0.8.0 in /opt/conda/lib/python3.10/site-packages (from jedi>=0.16->ipython>=5.5.0->pycaret) (0.8.3)\nRequirement already satisfied: attrs>=17.4.0 in /opt/conda/lib/python3.10/site-packages (from jsonschema>=2.6->nbformat>=4.2.0->pycaret) (23.1.0)\nRequirement already satisfied: pyrsistent!=0.17.0,!=0.17.1,!=0.17.2,>=0.14.0 in /opt/conda/lib/python3.10/site-packages (from jsonschema>=2.6->nbformat>=4.2.0->pycaret) (0.19.3)\nRequirement already satisfied: platformdirs>=2.5 in /opt/conda/lib/python3.10/site-packages (from jupyter-core->nbformat>=4.2.0->pycaret) (3.5.0)\nRequirement already satisfied: retrying in /opt/conda/lib/python3.10/site-packages (from jupyter-dash>=0.4.2->plotly-resampler>=0.8.3.1->pycaret) (1.3.3)\nCollecting ansi2html (from jupyter-dash>=0.4.2->plotly-resampler>=0.8.3.1->pycaret)\n  Downloading ansi2html-1.9.0rc1-py3-none-any.whl (17 kB)\nRequirement already satisfied: ptyprocess>=0.5 in /opt/conda/lib/python3.10/site-packages (from pexpect>4.3->ipython>=5.5.0->pycaret) (0.7.0)\nRequirement already satisfied: wcwidth in /opt/conda/lib/python3.10/site-packages (from prompt-toolkit!=3.0.37,<3.1.0,>=3.0.30->ipython>=5.5.0->pycaret) (0.2.6)\nRequirement already satisfied: notebook>=4.4.1 in /opt/conda/lib/python3.10/site-packages (from widgetsnbextension~=3.6.0->ipywidgets>=7.6.5->pycaret) (6.5.4)\nRequirement already satisfied: executing>=1.2.0 in /opt/conda/lib/python3.10/site-packages (from stack-data->ipython>=5.5.0->pycaret) (1.2.0)\nRequirement already satisfied: asttokens>=2.1.0 in /opt/conda/lib/python3.10/site-packages (from stack-data->ipython>=5.5.0->pycaret) (2.2.1)\nRequirement already satisfied: pure-eval in /opt/conda/lib/python3.10/site-packages (from stack-data->ipython>=5.5.0->pycaret) (0.2.2)\nRequirement already satisfied: itsdangerous>=2.0 in /opt/conda/lib/python3.10/site-packages (from Flask<2.3.0,>=1.0.4->dash<3.0.0,>=2.2.0->plotly-resampler>=0.8.3.1->pycaret) (2.1.2)\nRequirement already satisfied: click>=8.0 in /opt/conda/lib/python3.10/site-packages (from Flask<2.3.0,>=1.0.4->dash<3.0.0,>=2.2.0->plotly-resampler>=0.8.3.1->pycaret) (8.1.3)\nRequirement already satisfied: entrypoints in /opt/conda/lib/python3.10/site-packages (from jupyter-client>=6.1.12->ipykernel>=4.5.1->ipywidgets>=7.6.5->pycaret) (0.4)\nRequirement already satisfied: argon2-cffi in /opt/conda/lib/python3.10/site-packages (from notebook>=4.4.1->widgetsnbextension~=3.6.0->ipywidgets>=7.6.5->pycaret) (21.3.0)\nRequirement already satisfied: nbconvert>=5 in /opt/conda/lib/python3.10/site-packages (from notebook>=4.4.1->widgetsnbextension~=3.6.0->ipywidgets>=7.6.5->pycaret) (6.4.5)\nRequirement already satisfied: Send2Trash>=1.8.0 in /opt/conda/lib/python3.10/site-packages (from notebook>=4.4.1->widgetsnbextension~=3.6.0->ipywidgets>=7.6.5->pycaret) (1.8.2)\nRequirement already satisfied: terminado>=0.8.3 in /opt/conda/lib/python3.10/site-packages (from notebook>=4.4.1->widgetsnbextension~=3.6.0->ipywidgets>=7.6.5->pycaret) (0.17.1)\nRequirement already satisfied: prometheus-client in /opt/conda/lib/python3.10/site-packages (from notebook>=4.4.1->widgetsnbextension~=3.6.0->ipywidgets>=7.6.5->pycaret) (0.16.0)\nRequirement already satisfied: nbclassic>=0.4.7 in /opt/conda/lib/python3.10/site-packages (from notebook>=4.4.1->widgetsnbextension~=3.6.0->ipywidgets>=7.6.5->pycaret) (1.0.0)\nRequirement already satisfied: jupyter-server>=1.8 in /opt/conda/lib/python3.10/site-packages (from nbclassic>=0.4.7->notebook>=4.4.1->widgetsnbextension~=3.6.0->ipywidgets>=7.6.5->pycaret) (2.5.0)\nRequirement already satisfied: notebook-shim>=0.2.3 in /opt/conda/lib/python3.10/site-packages (from nbclassic>=0.4.7->notebook>=4.4.1->widgetsnbextension~=3.6.0->ipywidgets>=7.6.5->pycaret) (0.2.3)\nRequirement already satisfied: mistune<2,>=0.8.1 in /opt/conda/lib/python3.10/site-packages (from nbconvert>=5->notebook>=4.4.1->widgetsnbextension~=3.6.0->ipywidgets>=7.6.5->pycaret) (0.8.4)\nRequirement already satisfied: jupyterlab-pygments in /opt/conda/lib/python3.10/site-packages (from nbconvert>=5->notebook>=4.4.1->widgetsnbextension~=3.6.0->ipywidgets>=7.6.5->pycaret) (0.2.2)\nRequirement already satisfied: bleach in /opt/conda/lib/python3.10/site-packages (from nbconvert>=5->notebook>=4.4.1->widgetsnbextension~=3.6.0->ipywidgets>=7.6.5->pycaret) (6.0.0)\nRequirement already satisfied: pandocfilters>=1.4.1 in /opt/conda/lib/python3.10/site-packages (from nbconvert>=5->notebook>=4.4.1->widgetsnbextension~=3.6.0->ipywidgets>=7.6.5->pycaret) (1.5.0)\nRequirement already satisfied: testpath in /opt/conda/lib/python3.10/site-packages (from nbconvert>=5->notebook>=4.4.1->widgetsnbextension~=3.6.0->ipywidgets>=7.6.5->pycaret) (0.6.0)\nRequirement already satisfied: defusedxml in /opt/conda/lib/python3.10/site-packages (from nbconvert>=5->notebook>=4.4.1->widgetsnbextension~=3.6.0->ipywidgets>=7.6.5->pycaret) (0.7.1)\nRequirement already satisfied: beautifulsoup4 in /opt/conda/lib/python3.10/site-packages (from nbconvert>=5->notebook>=4.4.1->widgetsnbextension~=3.6.0->ipywidgets>=7.6.5->pycaret) (4.12.2)\nRequirement already satisfied: nbclient<0.6.0,>=0.5.0 in /opt/conda/lib/python3.10/site-packages (from nbconvert>=5->notebook>=4.4.1->widgetsnbextension~=3.6.0->ipywidgets>=7.6.5->pycaret) (0.5.13)\nRequirement already satisfied: argon2-cffi-bindings in /opt/conda/lib/python3.10/site-packages (from argon2-cffi->notebook>=4.4.1->widgetsnbextension~=3.6.0->ipywidgets>=7.6.5->pycaret) (21.2.0)\nRequirement already satisfied: anyio>=3.1.0 in /opt/conda/lib/python3.10/site-packages (from jupyter-server>=1.8->nbclassic>=0.4.7->notebook>=4.4.1->widgetsnbextension~=3.6.0->ipywidgets>=7.6.5->pycaret) (3.6.2)\nRequirement already satisfied: jupyter-events>=0.4.0 in /opt/conda/lib/python3.10/site-packages (from jupyter-server>=1.8->nbclassic>=0.4.7->notebook>=4.4.1->widgetsnbextension~=3.6.0->ipywidgets>=7.6.5->pycaret) (0.6.3)\nRequirement already satisfied: jupyter-server-terminals in /opt/conda/lib/python3.10/site-packages (from jupyter-server>=1.8->nbclassic>=0.4.7->notebook>=4.4.1->widgetsnbextension~=3.6.0->ipywidgets>=7.6.5->pycaret) (0.4.4)\nRequirement already satisfied: websocket-client in /opt/conda/lib/python3.10/site-packages (from jupyter-server>=1.8->nbclassic>=0.4.7->notebook>=4.4.1->widgetsnbextension~=3.6.0->ipywidgets>=7.6.5->pycaret) (1.5.1)\nRequirement already satisfied: cffi>=1.0.1 in /opt/conda/lib/python3.10/site-packages (from argon2-cffi-bindings->argon2-cffi->notebook>=4.4.1->widgetsnbextension~=3.6.0->ipywidgets>=7.6.5->pycaret) (1.15.1)\nRequirement already satisfied: soupsieve>1.2 in /opt/conda/lib/python3.10/site-packages (from beautifulsoup4->nbconvert>=5->notebook>=4.4.1->widgetsnbextension~=3.6.0->ipywidgets>=7.6.5->pycaret) (2.3.2.post1)\nRequirement already satisfied: webencodings in /opt/conda/lib/python3.10/site-packages (from bleach->nbconvert>=5->notebook>=4.4.1->widgetsnbextension~=3.6.0->ipywidgets>=7.6.5->pycaret) (0.5.1)\nRequirement already satisfied: sniffio>=1.1 in /opt/conda/lib/python3.10/site-packages (from anyio>=3.1.0->jupyter-server>=1.8->nbclassic>=0.4.7->notebook>=4.4.1->widgetsnbextension~=3.6.0->ipywidgets>=7.6.5->pycaret) (1.3.0)\nRequirement already satisfied: pycparser in /opt/conda/lib/python3.10/site-packages (from cffi>=1.0.1->argon2-cffi-bindings->argon2-cffi->notebook>=4.4.1->widgetsnbextension~=3.6.0->ipywidgets>=7.6.5->pycaret) (2.21)\nRequirement already satisfied: python-json-logger>=2.0.4 in /opt/conda/lib/python3.10/site-packages (from jupyter-events>=0.4.0->jupyter-server>=1.8->nbclassic>=0.4.7->notebook>=4.4.1->widgetsnbextension~=3.6.0->ipywidgets>=7.6.5->pycaret) (2.0.7)\nRequirement already satisfied: pyyaml>=5.3 in /opt/conda/lib/python3.10/site-packages (from jupyter-events>=0.4.0->jupyter-server>=1.8->nbclassic>=0.4.7->notebook>=4.4.1->widgetsnbextension~=3.6.0->ipywidgets>=7.6.5->pycaret) (5.4.1)\nRequirement already satisfied: rfc3339-validator in /opt/conda/lib/python3.10/site-packages (from jupyter-events>=0.4.0->jupyter-server>=1.8->nbclassic>=0.4.7->notebook>=4.4.1->widgetsnbextension~=3.6.0->ipywidgets>=7.6.5->pycaret) (0.1.4)\nRequirement already satisfied: rfc3986-validator>=0.1.1 in /opt/conda/lib/python3.10/site-packages (from jupyter-events>=0.4.0->jupyter-server>=1.8->nbclassic>=0.4.7->notebook>=4.4.1->widgetsnbextension~=3.6.0->ipywidgets>=7.6.5->pycaret) (0.1.1)\nRequirement already satisfied: fqdn in /opt/conda/lib/python3.10/site-packages (from jsonschema>=2.6->nbformat>=4.2.0->pycaret) (1.5.1)\nRequirement already satisfied: isoduration in /opt/conda/lib/python3.10/site-packages (from jsonschema>=2.6->nbformat>=4.2.0->pycaret) (20.11.0)\nRequirement already satisfied: jsonpointer>1.13 in /opt/conda/lib/python3.10/site-packages (from jsonschema>=2.6->nbformat>=4.2.0->pycaret) (2.0)\nRequirement already satisfied: uri-template in /opt/conda/lib/python3.10/site-packages (from jsonschema>=2.6->nbformat>=4.2.0->pycaret) (1.2.0)\nRequirement already satisfied: webcolors>=1.11 in /opt/conda/lib/python3.10/site-packages (from jsonschema>=2.6->nbformat>=4.2.0->pycaret) (1.13)\nRequirement already satisfied: arrow>=0.15.0 in /opt/conda/lib/python3.10/site-packages (from isoduration->jsonschema>=2.6->nbformat>=4.2.0->pycaret) (1.2.3)\nBuilding wheels for collected packages: pyod\n  Building wheel for pyod (setup.py) ... \u001b[?25ldone\n\u001b[?25h  Created wheel for pyod: filename=pyod-1.0.9-py3-none-any.whl size=184113 sha256=157642133573906c29da6f1294494ae4b60001beb6fddc9afe4471ef010f0a6d\n  Stored in directory: /root/.cache/pip/wheels/83/55/6b/552e083cf5509c0afe808b76cf434f1be284d01a112623bd37\nSuccessfully built pyod\nInstalling collected packages: trace-updater, kaleido, dash-table, dash-html-components, dash-core-components, Werkzeug, tsdownsample, schemdraw, ansi2html, Flask, sktime, pyod, dash, pmdarima, tbats, jupyter-dash, plotly-resampler, pycaret\n  Attempting uninstall: Werkzeug\n    Found existing installation: Werkzeug 2.3.4\n    Uninstalling Werkzeug-2.3.4:\n      Successfully uninstalled Werkzeug-2.3.4\n  Attempting uninstall: Flask\n    Found existing installation: Flask 2.3.2\n    Uninstalling Flask-2.3.2:\n      Successfully uninstalled Flask-2.3.2\nSuccessfully installed Flask-2.2.5 Werkzeug-2.2.3 ansi2html-1.9.0rc1 dash-2.10.2 dash-core-components-2.0.0 dash-html-components-2.0.0 dash-table-5.0.0 jupyter-dash-0.4.2 kaleido-0.2.1 plotly-resampler-0.9.0rc5 pmdarima-2.0.3 pycaret-3.0.2 pyod-1.0.9 schemdraw-0.15 sktime-0.17.0 tbats-1.1.3 trace-updater-0.0.9.1 tsdownsample-0.1.2\n\u001b[33mWARNING: Running pip as the 'root' user can result in broken permissions and conflicting behaviour with the system package manager. It is recommended to use a virtual environment instead: https://pip.pypa.io/warnings/venv\u001b[0m\u001b[33m\n\u001b[0mNote: you may need to restart the kernel to use updated packages.\n",
          "output_type": "stream"
        }
      ]
    },
    {
      "cell_type": "code",
      "source": [
        "from sklearn.linear_model import LogisticRegression"
      ],
      "metadata": {
        "execution": {
          "iopub.status.busy": "2023-06-09T05:01:27.593257Z",
          "iopub.execute_input": "2023-06-09T05:01:27.593666Z",
          "iopub.status.idle": "2023-06-09T05:01:27.599637Z",
          "shell.execute_reply.started": "2023-06-09T05:01:27.593637Z",
          "shell.execute_reply": "2023-06-09T05:01:27.597785Z"
        },
        "trusted": true,
        "id": "5dUTrOjnkRqZ"
      },
      "execution_count": null,
      "outputs": []
    },
    {
      "cell_type": "code",
      "source": [
        "clf = LogisticRegression(random_state=42).fit(X_train, y_train)"
      ],
      "metadata": {
        "execution": {
          "iopub.status.busy": "2023-06-09T05:01:28.254713Z",
          "iopub.execute_input": "2023-06-09T05:01:28.255137Z",
          "iopub.status.idle": "2023-06-09T05:01:31.521169Z",
          "shell.execute_reply.started": "2023-06-09T05:01:28.255106Z",
          "shell.execute_reply": "2023-06-09T05:01:31.519632Z"
        },
        "trusted": true,
        "id": "QV6EOVXFkRqZ"
      },
      "execution_count": null,
      "outputs": []
    },
    {
      "cell_type": "code",
      "source": [
        "predictions = clf.predict(X_test)"
      ],
      "metadata": {
        "execution": {
          "iopub.status.busy": "2023-06-09T05:01:48.160418Z",
          "iopub.execute_input": "2023-06-09T05:01:48.160820Z",
          "iopub.status.idle": "2023-06-09T05:01:48.175871Z",
          "shell.execute_reply.started": "2023-06-09T05:01:48.160793Z",
          "shell.execute_reply": "2023-06-09T05:01:48.174211Z"
        },
        "trusted": true,
        "id": "BUtA9Zq9kRqZ"
      },
      "execution_count": null,
      "outputs": []
    },
    {
      "cell_type": "code",
      "source": [
        "print(confusion_matrix(y_test, predictions))"
      ],
      "metadata": {
        "execution": {
          "iopub.status.busy": "2023-06-09T05:02:02.165802Z",
          "iopub.execute_input": "2023-06-09T05:02:02.166205Z",
          "iopub.status.idle": "2023-06-09T05:02:02.199062Z",
          "shell.execute_reply.started": "2023-06-09T05:02:02.166176Z",
          "shell.execute_reply": "2023-06-09T05:02:02.197567Z"
        },
        "trusted": true,
        "id": "y2bvU0wpkRqZ",
        "outputId": "272c9f34-0e79-4fd2-8feb-d651a262a343"
      },
      "execution_count": null,
      "outputs": [
        {
          "name": "stdout",
          "text": "[[47952 11762]\n [29597 18566]]\n",
          "output_type": "stream"
        }
      ]
    },
    {
      "cell_type": "code",
      "source": [
        "print(classification_report(y_test, predictions))"
      ],
      "metadata": {
        "execution": {
          "iopub.status.busy": "2023-06-09T05:02:11.227559Z",
          "iopub.execute_input": "2023-06-09T05:02:11.227992Z",
          "iopub.status.idle": "2023-06-09T05:02:11.424677Z",
          "shell.execute_reply.started": "2023-06-09T05:02:11.227959Z",
          "shell.execute_reply": "2023-06-09T05:02:11.423349Z"
        },
        "trusted": true,
        "id": "yn0avWG_kRqh",
        "outputId": "bbdce3b7-1a88-44f3-e7d3-85b83840ca7b"
      },
      "execution_count": null,
      "outputs": [
        {
          "name": "stdout",
          "text": "              precision    recall  f1-score   support\n\n           0       0.62      0.80      0.70     59714\n           1       0.61      0.39      0.47     48163\n\n    accuracy                           0.62    107877\n   macro avg       0.62      0.59      0.59    107877\nweighted avg       0.62      0.62      0.60    107877\n\n",
          "output_type": "stream"
        }
      ]
    },
    {
      "cell_type": "code",
      "source": [],
      "metadata": {
        "id": "MDwMm59xkRqh"
      },
      "execution_count": null,
      "outputs": []
    }
  ]
}